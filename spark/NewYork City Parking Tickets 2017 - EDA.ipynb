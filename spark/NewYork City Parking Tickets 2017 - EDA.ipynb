{
 "cells": [
  {
   "cell_type": "markdown",
   "metadata": {},
   "source": [
    "## Problem Statement\n",
    "Big data analytics allows you to analyse data at scale. It has applications in almost every industry in the world. Let’s consider an unconventional application that you wouldn’t ordinarily encounter.\n",
    "\n",
    "New York City is a thriving metropolis. Just like most other metros its size, one of the biggest problems its citizens face is parking. The classic combination of a huge number of cars and cramped geography leads to a huge number of parking tickets.\n",
    "\n",
    "\n",
    "In an attempt to scientifically analyse this phenomenon, the NYC Police Department has collected data for parking tickets. Of these, the data files for multiple years are publicly available on Kaggle. We will try and perform some exploratory analysis on a part of this data. Spark will allow us to analyse the full files at high speeds as opposed to taking a series of random samples that will approximate the population. For the scope of this analysis, we will analyse the parking tickets over the year 2017. "
   ]
  },
  {
   "cell_type": "markdown",
   "metadata": {},
   "source": [
    "### Brief: \n",
    "This Case Study is centered on the concepts of Ingesting and Analyzing big data on the PySpark platform. Spark will allow us to analyse the full files at high speeds, as opposed to taking a series of random samples that will approximate the population."
   ]
  },
  {
   "cell_type": "markdown",
   "metadata": {},
   "source": [
    "### Dataset: \n",
    "The dataset used for analysis consists of the Parking Violation Ticket details issued by the NYC Police Department for the year of  2017."
   ]
  },
  {
   "cell_type": "markdown",
   "metadata": {},
   "source": [
    "### Our Analysis is focussed on performing exploratory analysis to understand the parking violation dataset. \n",
    "- Stage 1: Data Quality Verification and Cleaning\n",
    "- Stage 2: Overview and Examining the dataset\n",
    "- Stage 3: Deriving and Comparing Metrics through Aggregation Tasks."
   ]
  },
  {
   "cell_type": "code",
   "execution_count": 1,
   "metadata": {},
   "outputs": [],
   "source": [
    "#Initializing the Spark session.\n",
    "from pyspark.sql import SparkSession\n",
    "spark = SparkSession \\\n",
    "    .builder \\\n",
    "    .appName(\"Misc\") \\\n",
    "    .getOrCreate()"
   ]
  },
  {
   "cell_type": "code",
   "execution_count": 2,
   "metadata": {},
   "outputs": [],
   "source": [
    "#load csv file\n",
    "df = spark.read.format(\"csv\")\\\n",
    "  .option(\"header\", \"true\")\\\n",
    "  .option(\"inferSchema\", \"true\")\\\n",
    "  .load(\"/common_folder/nyc_parking/Parking_Violations_Issued_-_Fiscal_Year_2017.csv\")"
   ]
  },
  {
   "cell_type": "code",
   "execution_count": 3,
   "metadata": {},
   "outputs": [],
   "source": [
    "# Import all sql functions as F\n",
    "import pyspark.sql.functions as F"
   ]
  },
  {
   "cell_type": "code",
   "execution_count": 4,
   "metadata": {},
   "outputs": [
    {
     "data": {
      "text/plain": [
       "pyspark.sql.dataframe.DataFrame"
      ]
     },
     "execution_count": 4,
     "metadata": {},
     "output_type": "execute_result"
    }
   ],
   "source": [
    "# Check and confirm type of pyspark dataframe\n",
    "type(df)"
   ]
  },
  {
   "cell_type": "code",
   "execution_count": 5,
   "metadata": {},
   "outputs": [
    {
     "name": "stdout",
     "output_type": "stream",
     "text": [
      "+--------------+--------+------------------+-------------------+--------------+-----------------+------------+------------------+---------------+--------------+\n",
      "|Summons Number|Plate ID|Registration State|         Issue Date|Violation Code|Vehicle Body Type|Vehicle Make|Violation Precinct|Issuer Precinct|Violation Time|\n",
      "+--------------+--------+------------------+-------------------+--------------+-----------------+------------+------------------+---------------+--------------+\n",
      "|    5092469481| GZH7067|                NY|2016-07-10 00:00:00|             7|             SUBN|       TOYOT|                 0|              0|         0143A|\n",
      "|    5092451658| GZH7067|                NY|2016-07-08 00:00:00|             7|             SUBN|       TOYOT|                 0|              0|         0400P|\n",
      "|    4006265037| FZX9232|                NY|2016-08-23 00:00:00|             5|             SUBN|        FORD|                 0|              0|         0233P|\n",
      "|    8478629828| 66623ME|                NY|2017-06-14 00:00:00|            47|             REFG|       MITSU|                14|             14|         1120A|\n",
      "|    7868300310| 37033JV|                NY|2016-11-21 00:00:00|            69|             DELV|       INTER|                13|             13|         0555P|\n",
      "+--------------+--------+------------------+-------------------+--------------+-----------------+------------+------------------+---------------+--------------+\n",
      "only showing top 5 rows\n",
      "\n"
     ]
    }
   ],
   "source": [
    "# Display top 5 records from dataframe\n",
    "df.show(5)"
   ]
  },
  {
   "cell_type": "code",
   "execution_count": 6,
   "metadata": {},
   "outputs": [
    {
     "data": {
      "text/plain": [
       "10803028"
      ]
     },
     "execution_count": 6,
     "metadata": {},
     "output_type": "execute_result"
    }
   ],
   "source": [
    "# Check total number of records in the dataframe\n",
    "df.count()"
   ]
  },
  {
   "cell_type": "code",
   "execution_count": 7,
   "metadata": {},
   "outputs": [
    {
     "name": "stdout",
     "output_type": "stream",
     "text": [
      "root\n",
      " |-- Summons Number: long (nullable = true)\n",
      " |-- Plate ID: string (nullable = true)\n",
      " |-- Registration State: string (nullable = true)\n",
      " |-- Issue Date: timestamp (nullable = true)\n",
      " |-- Violation Code: integer (nullable = true)\n",
      " |-- Vehicle Body Type: string (nullable = true)\n",
      " |-- Vehicle Make: string (nullable = true)\n",
      " |-- Violation Precinct: integer (nullable = true)\n",
      " |-- Issuer Precinct: integer (nullable = true)\n",
      " |-- Violation Time: string (nullable = true)\n",
      "\n"
     ]
    }
   ],
   "source": [
    "# Check schema of the dataframe\n",
    "df.printSchema()"
   ]
  },
  {
   "cell_type": "code",
   "execution_count": 8,
   "metadata": {},
   "outputs": [
    {
     "data": {
      "text/plain": [
       "['Summons Number',\n",
       " 'Plate ID',\n",
       " 'Registration State',\n",
       " 'Issue Date',\n",
       " 'Violation Code',\n",
       " 'Vehicle Body Type',\n",
       " 'Vehicle Make',\n",
       " 'Violation Precinct',\n",
       " 'Issuer Precinct',\n",
       " 'Violation Time']"
      ]
     },
     "execution_count": 8,
     "metadata": {},
     "output_type": "execute_result"
    }
   ],
   "source": [
    "# List the columns present in the dataframe\n",
    "df.columns"
   ]
  },
  {
   "cell_type": "code",
   "execution_count": 9,
   "metadata": {},
   "outputs": [
    {
     "name": "stdout",
     "output_type": "stream",
     "text": [
      "+----------------+-------+\n",
      "|year(Issue Date)|  Count|\n",
      "+----------------+-------+\n",
      "|            2017|5431918|\n",
      "|            2016|5368391|\n",
      "|            2018|   1057|\n",
      "|            2019|    472|\n",
      "|            2015|    419|\n",
      "|            2000|    185|\n",
      "|            2014|    120|\n",
      "|            2012|     87|\n",
      "|            2013|     70|\n",
      "|            2027|     50|\n",
      "|            2010|     48|\n",
      "|            2026|     24|\n",
      "|            2011|     22|\n",
      "|            2020|     22|\n",
      "|            2021|     22|\n",
      "|            2007|     18|\n",
      "|            2030|     12|\n",
      "|            2006|      8|\n",
      "|            2028|      8|\n",
      "|            2025|      6|\n",
      "+----------------+-------+\n",
      "only showing top 20 rows\n",
      "\n"
     ]
    }
   ],
   "source": [
    "# Check number of records for each year present in the dataframe based on \"Issue Date\" filed\n",
    "df.groupBy(F.year(\"Issue Date\")).agg(F.count(F.year(\"Issue Date\")).alias(\"Count\")).sort(F.desc(\"Count\")).show()"
   ]
  },
  {
   "cell_type": "markdown",
   "metadata": {},
   "source": [
    "#### Out of 10803028 records, only 5431918 records ( approx. 50% ) data are for the year 2017.\n",
    "#### However, since the scope of the analyses is restriced to year 2017, we will keep only records that conform to this condition i.e., \"Issue Date\" is for the year 2017. All other records will be filtered out (left out from further analyses)."
   ]
  },
  {
   "cell_type": "code",
   "execution_count": 10,
   "metadata": {},
   "outputs": [],
   "source": [
    "# Filter records only belonging to year 2017\n",
    "nyc_2017 = df.filter(F.year(\"Issue Date\") == 2017)"
   ]
  },
  {
   "cell_type": "code",
   "execution_count": 11,
   "metadata": {},
   "outputs": [
    {
     "data": {
      "text/plain": [
       "10803028"
      ]
     },
     "execution_count": 11,
     "metadata": {},
     "output_type": "execute_result"
    }
   ],
   "source": [
    "df.count()"
   ]
  },
  {
   "cell_type": "code",
   "execution_count": 12,
   "metadata": {},
   "outputs": [
    {
     "data": {
      "text/plain": [
       "5431918"
      ]
     },
     "execution_count": 12,
     "metadata": {},
     "output_type": "execute_result"
    }
   ],
   "source": [
    "nyc_2017.count()"
   ]
  },
  {
   "cell_type": "markdown",
   "metadata": {},
   "source": [
    "Replace space with underscore in all column names for ease of usage."
   ]
  },
  {
   "cell_type": "code",
   "execution_count": 13,
   "metadata": {},
   "outputs": [],
   "source": [
    "for c in nyc_2017.columns:\n",
    "    nyc_2017 = nyc_2017.withColumnRenamed(c,c.replace(\" \",\"_\"))"
   ]
  },
  {
   "cell_type": "code",
   "execution_count": 14,
   "metadata": {},
   "outputs": [
    {
     "name": "stdout",
     "output_type": "stream",
     "text": [
      "root\n",
      " |-- Summons_Number: long (nullable = true)\n",
      " |-- Plate_ID: string (nullable = true)\n",
      " |-- Registration_State: string (nullable = true)\n",
      " |-- Issue_Date: timestamp (nullable = true)\n",
      " |-- Violation_Code: integer (nullable = true)\n",
      " |-- Vehicle_Body_Type: string (nullable = true)\n",
      " |-- Vehicle_Make: string (nullable = true)\n",
      " |-- Violation_Precinct: integer (nullable = true)\n",
      " |-- Issuer_Precinct: integer (nullable = true)\n",
      " |-- Violation_Time: string (nullable = true)\n",
      "\n"
     ]
    }
   ],
   "source": [
    "nyc_2017.printSchema()"
   ]
  },
  {
   "cell_type": "code",
   "execution_count": 15,
   "metadata": {},
   "outputs": [
    {
     "name": "stdout",
     "output_type": "stream",
     "text": [
      "+--------------+--------+------------------+-------------------+--------------+-----------------+------------+------------------+---------------+--------------+\n",
      "|Summons_Number|Plate_ID|Registration_State|         Issue_Date|Violation_Code|Vehicle_Body_Type|Vehicle_Make|Violation_Precinct|Issuer_Precinct|Violation_Time|\n",
      "+--------------+--------+------------------+-------------------+--------------+-----------------+------------+------------------+---------------+--------------+\n",
      "|    8478629828| 66623ME|                NY|2017-06-14 00:00:00|            47|             REFG|       MITSU|                14|             14|         1120A|\n",
      "|    5096917368| FZD8593|                NY|2017-06-13 00:00:00|             7|             SUBN|       ME/BE|                 0|              0|         0852P|\n",
      "|    1407740258| 2513JMG|                NY|2017-01-11 00:00:00|            78|             DELV|       FRUEH|               106|            106|         0015A|\n",
      "|    1413656420|T672371C|                NY|2017-02-04 00:00:00|            40|             TAXI|       TOYOT|                73|             73|         0525A|\n",
      "|    8480309064| 51771JW|                NY|2017-01-26 00:00:00|            64|              VAN|       INTER|                17|             17|         0256P|\n",
      "+--------------+--------+------------------+-------------------+--------------+-----------------+------------+------------------+---------------+--------------+\n",
      "only showing top 5 rows\n",
      "\n"
     ]
    }
   ],
   "source": [
    "nyc_2017.show(5)"
   ]
  },
  {
   "cell_type": "code",
   "execution_count": 16,
   "metadata": {},
   "outputs": [
    {
     "data": {
      "text/plain": [
       "[('Summons_Number', 'bigint'),\n",
       " ('Plate_ID', 'string'),\n",
       " ('Registration_State', 'string'),\n",
       " ('Issue_Date', 'timestamp'),\n",
       " ('Violation_Code', 'int'),\n",
       " ('Vehicle_Body_Type', 'string'),\n",
       " ('Vehicle_Make', 'string'),\n",
       " ('Violation_Precinct', 'int'),\n",
       " ('Issuer_Precinct', 'int'),\n",
       " ('Violation_Time', 'string')]"
      ]
     },
     "execution_count": 16,
     "metadata": {},
     "output_type": "execute_result"
    }
   ],
   "source": [
    "# Identify datatype of each of the columns\n",
    "nyc_2017.dtypes"
   ]
  },
  {
   "cell_type": "code",
   "execution_count": 17,
   "metadata": {},
   "outputs": [
    {
     "data": {
      "text/html": [
       "<div>\n",
       "<style scoped>\n",
       "    .dataframe tbody tr th:only-of-type {\n",
       "        vertical-align: middle;\n",
       "    }\n",
       "\n",
       "    .dataframe tbody tr th {\n",
       "        vertical-align: top;\n",
       "    }\n",
       "\n",
       "    .dataframe thead th {\n",
       "        text-align: right;\n",
       "    }\n",
       "</style>\n",
       "<table border=\"1\" class=\"dataframe\">\n",
       "  <thead>\n",
       "    <tr style=\"text-align: right;\">\n",
       "      <th></th>\n",
       "      <th>summary</th>\n",
       "      <th>Summons_Number</th>\n",
       "      <th>Violation_Code</th>\n",
       "      <th>Violation_Precinct</th>\n",
       "      <th>Issuer_Precinct</th>\n",
       "    </tr>\n",
       "  </thead>\n",
       "  <tbody>\n",
       "    <tr>\n",
       "      <th>0</th>\n",
       "      <td>count</td>\n",
       "      <td>5431918</td>\n",
       "      <td>5431918</td>\n",
       "      <td>5431918</td>\n",
       "      <td>5431918</td>\n",
       "    </tr>\n",
       "    <tr>\n",
       "      <th>1</th>\n",
       "      <td>mean</td>\n",
       "      <td>7.116377503346856E9</td>\n",
       "      <td>35.05772196855696</td>\n",
       "      <td>45.86076593939747</td>\n",
       "      <td>47.68945646823093</td>\n",
       "    </tr>\n",
       "    <tr>\n",
       "      <th>2</th>\n",
       "      <td>stddev</td>\n",
       "      <td>2.2941358232098784E9</td>\n",
       "      <td>19.332822159461614</td>\n",
       "      <td>40.33149035442257</td>\n",
       "      <td>61.58776474573476</td>\n",
       "    </tr>\n",
       "    <tr>\n",
       "      <th>3</th>\n",
       "      <td>min</td>\n",
       "      <td>1002884949</td>\n",
       "      <td>0</td>\n",
       "      <td>0</td>\n",
       "      <td>0</td>\n",
       "    </tr>\n",
       "    <tr>\n",
       "      <th>4</th>\n",
       "      <td>max</td>\n",
       "      <td>8585600044</td>\n",
       "      <td>99</td>\n",
       "      <td>918</td>\n",
       "      <td>992</td>\n",
       "    </tr>\n",
       "  </tbody>\n",
       "</table>\n",
       "</div>"
      ],
      "text/plain": [
       "  summary        Summons_Number      Violation_Code Violation_Precinct  \\\n",
       "0   count               5431918             5431918            5431918   \n",
       "1    mean   7.116377503346856E9   35.05772196855696  45.86076593939747   \n",
       "2  stddev  2.2941358232098784E9  19.332822159461614  40.33149035442257   \n",
       "3     min            1002884949                   0                  0   \n",
       "4     max            8585600044                  99                918   \n",
       "\n",
       "     Issuer_Precinct  \n",
       "0            5431918  \n",
       "1  47.68945646823093  \n",
       "2  61.58776474573476  \n",
       "3                  0  \n",
       "4                992  "
      ]
     },
     "execution_count": 17,
     "metadata": {},
     "output_type": "execute_result"
    }
   ],
   "source": [
    "# Print the summary statistics for all numerical attributes\n",
    "nyc_2017.describe([i[0] for i in nyc_2017.dtypes if 'int' in i[1]]).toPandas()"
   ]
  },
  {
   "cell_type": "markdown",
   "metadata": {},
   "source": [
    "Inferences:\n",
    "- Summons_Number : This is the identifier number for each of the tickets issued.\n",
    "- Violation_Code : The code of the violation for which the ticket has been issued. Ranges from 0 to 99.\n",
    "- Violation_Precinct : The code of the precinct in which the violation has occured.\n",
    "- Issuer_Precinct : The code of the precinct which has issued the ticket for the violation."
   ]
  },
  {
   "cell_type": "code",
   "execution_count": 18,
   "metadata": {},
   "outputs": [
    {
     "data": {
      "text/html": [
       "<div>\n",
       "<style scoped>\n",
       "    .dataframe tbody tr th:only-of-type {\n",
       "        vertical-align: middle;\n",
       "    }\n",
       "\n",
       "    .dataframe tbody tr th {\n",
       "        vertical-align: top;\n",
       "    }\n",
       "\n",
       "    .dataframe thead th {\n",
       "        text-align: right;\n",
       "    }\n",
       "</style>\n",
       "<table border=\"1\" class=\"dataframe\">\n",
       "  <thead>\n",
       "    <tr style=\"text-align: right;\">\n",
       "      <th></th>\n",
       "      <th>min(Issue_Date)</th>\n",
       "      <th>max(Issue_Date)</th>\n",
       "    </tr>\n",
       "  </thead>\n",
       "  <tbody>\n",
       "    <tr>\n",
       "      <th>0</th>\n",
       "      <td>2017-01-01</td>\n",
       "      <td>2017-12-31</td>\n",
       "    </tr>\n",
       "  </tbody>\n",
       "</table>\n",
       "</div>"
      ],
      "text/plain": [
       "  min(Issue_Date) max(Issue_Date)\n",
       "0      2017-01-01      2017-12-31"
      ]
     },
     "execution_count": 18,
     "metadata": {},
     "output_type": "execute_result"
    }
   ],
   "source": [
    "nyc_2017.select(F.min(\"Issue_Date\"), F.max(\"Issue_Date\")).toPandas()"
   ]
  },
  {
   "cell_type": "markdown",
   "metadata": {},
   "source": [
    "Only data corresponding to year 2017 (01-JAN-2017 to 31-DEC-2017) have been filtered out for further analyses. "
   ]
  },
  {
   "cell_type": "code",
   "execution_count": 19,
   "metadata": {},
   "outputs": [
    {
     "data": {
      "text/plain": [
       "5431918"
      ]
     },
     "execution_count": 19,
     "metadata": {},
     "output_type": "execute_result"
    }
   ],
   "source": [
    "nyc_2017.distinct().count()"
   ]
  },
  {
   "cell_type": "code",
   "execution_count": 20,
   "metadata": {},
   "outputs": [
    {
     "data": {
      "text/plain": [
       "5431918"
      ]
     },
     "execution_count": 20,
     "metadata": {},
     "output_type": "execute_result"
    }
   ],
   "source": [
    "nyc_2017.count()"
   ]
  },
  {
   "cell_type": "markdown",
   "metadata": {},
   "source": [
    "There are no duplicate records in the nyc_2017 dataframe."
   ]
  },
  {
   "cell_type": "code",
   "execution_count": 21,
   "metadata": {},
   "outputs": [
    {
     "data": {
      "text/plain": [
       "5431918"
      ]
     },
     "execution_count": 21,
     "metadata": {},
     "output_type": "execute_result"
    }
   ],
   "source": [
    "nyc_2017.select('Summons_Number').distinct().count()"
   ]
  },
  {
   "cell_type": "markdown",
   "metadata": {},
   "source": [
    "Summons_Number uniquely identifies each record in this dataset."
   ]
  },
  {
   "cell_type": "code",
   "execution_count": 22,
   "metadata": {},
   "outputs": [
    {
     "data": {
      "text/html": [
       "<div>\n",
       "<style scoped>\n",
       "    .dataframe tbody tr th:only-of-type {\n",
       "        vertical-align: middle;\n",
       "    }\n",
       "\n",
       "    .dataframe tbody tr th {\n",
       "        vertical-align: top;\n",
       "    }\n",
       "\n",
       "    .dataframe thead th {\n",
       "        text-align: right;\n",
       "    }\n",
       "</style>\n",
       "<table border=\"1\" class=\"dataframe\">\n",
       "  <thead>\n",
       "    <tr style=\"text-align: right;\">\n",
       "      <th></th>\n",
       "      <th>Count</th>\n",
       "    </tr>\n",
       "  </thead>\n",
       "  <tbody>\n",
       "    <tr>\n",
       "      <th>Summons_Number</th>\n",
       "      <td>0</td>\n",
       "    </tr>\n",
       "    <tr>\n",
       "      <th>Plate_ID</th>\n",
       "      <td>0</td>\n",
       "    </tr>\n",
       "    <tr>\n",
       "      <th>Registration_State</th>\n",
       "      <td>0</td>\n",
       "    </tr>\n",
       "    <tr>\n",
       "      <th>Issue_Date</th>\n",
       "      <td>0</td>\n",
       "    </tr>\n",
       "    <tr>\n",
       "      <th>Violation_Code</th>\n",
       "      <td>0</td>\n",
       "    </tr>\n",
       "    <tr>\n",
       "      <th>Vehicle_Body_Type</th>\n",
       "      <td>0</td>\n",
       "    </tr>\n",
       "    <tr>\n",
       "      <th>Vehicle_Make</th>\n",
       "      <td>0</td>\n",
       "    </tr>\n",
       "    <tr>\n",
       "      <th>Violation_Precinct</th>\n",
       "      <td>0</td>\n",
       "    </tr>\n",
       "    <tr>\n",
       "      <th>Issuer_Precinct</th>\n",
       "      <td>0</td>\n",
       "    </tr>\n",
       "    <tr>\n",
       "      <th>Violation_Time</th>\n",
       "      <td>0</td>\n",
       "    </tr>\n",
       "  </tbody>\n",
       "</table>\n",
       "</div>"
      ],
      "text/plain": [
       "                    Count\n",
       "Summons_Number          0\n",
       "Plate_ID                0\n",
       "Registration_State      0\n",
       "Issue_Date              0\n",
       "Violation_Code          0\n",
       "Vehicle_Body_Type       0\n",
       "Vehicle_Make            0\n",
       "Violation_Precinct      0\n",
       "Issuer_Precinct         0\n",
       "Violation_Time          0"
      ]
     },
     "execution_count": 22,
     "metadata": {},
     "output_type": "execute_result"
    }
   ],
   "source": [
    "nyc_2017.select([F.count(F.when(F.isnull(c) , c)).alias(c) for c in nyc_2017.columns]).toPandas().rename(index={0:\"Count\"}).T"
   ]
  },
  {
   "cell_type": "markdown",
   "metadata": {},
   "source": [
    "#### Create temporary view of the dataframe for executing SQL like operations."
   ]
  },
  {
   "cell_type": "code",
   "execution_count": 23,
   "metadata": {},
   "outputs": [],
   "source": [
    "nyc_2017.createOrReplaceTempView(\"nyc_2017_Table\")"
   ]
  },
  {
   "cell_type": "code",
   "execution_count": 24,
   "metadata": {},
   "outputs": [
    {
     "name": "stdout",
     "output_type": "stream",
     "text": [
      "+--------+\n",
      "|count(1)|\n",
      "+--------+\n",
      "| 5431918|\n",
      "+--------+\n",
      "\n"
     ]
    }
   ],
   "source": [
    "spark.sql(\"select count(1) from nyc_2017_Table\").show()"
   ]
  },
  {
   "cell_type": "code",
   "execution_count": 25,
   "metadata": {},
   "outputs": [
    {
     "name": "stdout",
     "output_type": "stream",
     "text": [
      "+--------------+--------+------------------+-------------------+--------------+-----------------+------------+------------------+---------------+--------------+\n",
      "|Summons_Number|Plate_ID|Registration_State|         Issue_Date|Violation_Code|Vehicle_Body_Type|Vehicle_Make|Violation_Precinct|Issuer_Precinct|Violation_Time|\n",
      "+--------------+--------+------------------+-------------------+--------------+-----------------+------------+------------------+---------------+--------------+\n",
      "|    8534604575| GKU9062|                NY|2017-03-22 00:00:00|            20|             SUBN|        JEEP|                83|             83|         1210P|\n",
      "|    8503253811|  2XG950|                OK|2017-01-21 00:00:00|            48|             DELV|       INTER|                 9|              9|         1002A|\n",
      "|    8472121483| 10462MG|                NY|2017-02-17 00:00:00|            85|             DELV|       ISUZU|               108|            108|         0249A|\n",
      "|    4629846669| DCT2148|                NY|2017-01-20 00:00:00|            36|             SUBN|       CHRYS|                 0|              0|         1147A|\n",
      "|    8156049184| 49044MJ|                NY|2017-01-07 00:00:00|            70|              VAN|       CHEVR|                88|             88|         0915A|\n",
      "|    4631993893| GWU5267|                NY|2017-03-23 00:00:00|            36|             4DSD|       TOYOT|                 0|              0|         0807A|\n",
      "|    5096776244| GKX6742|                NY|2017-06-05 00:00:00|             7|             SUBN|       INFIN|                 0|              0|         1245A|\n",
      "|    8522250790|  EDJB26|                FL|2017-02-14 00:00:00|            40|             PICK|        FORD|                19|             19|         0128P|\n",
      "|    8563255538| HLB8408|                NY|2017-06-01 00:00:00|            71|             2DSD|       HONDA|               102|            102|         0751A|\n",
      "|    7608450514|24HRBABY|                NY|2017-04-06 00:00:00|            46|             4DSD|       NISSA|                40|             40|         1010A|\n",
      "+--------------+--------+------------------+-------------------+--------------+-----------------+------------+------------------+---------------+--------------+\n",
      "\n"
     ]
    }
   ],
   "source": [
    "spark.sql(\"select * from nyc_2017_Table limit 10\").show()"
   ]
  },
  {
   "cell_type": "markdown",
   "metadata": {},
   "source": [
    "--- "
   ]
  },
  {
   "cell_type": "markdown",
   "metadata": {},
   "source": [
    "### Examine the data"
   ]
  },
  {
   "cell_type": "markdown",
   "metadata": {},
   "source": [
    "--- "
   ]
  },
  {
   "cell_type": "markdown",
   "metadata": {},
   "source": [
    "#### 1. Find the total number of tickets for the year."
   ]
  },
  {
   "cell_type": "code",
   "execution_count": 26,
   "metadata": {},
   "outputs": [
    {
     "data": {
      "text/plain": [
       "5431918"
      ]
     },
     "execution_count": 26,
     "metadata": {},
     "output_type": "execute_result"
    }
   ],
   "source": [
    "nyc_2017.count()"
   ]
  },
  {
   "cell_type": "code",
   "execution_count": 27,
   "metadata": {},
   "outputs": [
    {
     "name": "stdout",
     "output_type": "stream",
     "text": [
      "+--------+\n",
      "|count(1)|\n",
      "+--------+\n",
      "| 5431918|\n",
      "+--------+\n",
      "\n"
     ]
    }
   ],
   "source": [
    "spark.sql(\"select count(1) from nyc_2017_Table\").show()"
   ]
  },
  {
   "cell_type": "markdown",
   "metadata": {},
   "source": [
    "#### Approximately 5.4 million tickets were issued for parking violation in NewYork city just in the year 2017!!!"
   ]
  },
  {
   "cell_type": "markdown",
   "metadata": {},
   "source": [
    "--- "
   ]
  },
  {
   "cell_type": "markdown",
   "metadata": {},
   "source": [
    "#### 2. Find out the number of unique states from where the cars that got parking tickets came. (Hint: Use the column 'Registration State'.)\n",
    "\n",
    "#### There is a numeric entry '99' in the column, which should be corrected. Replace it with the state having the maximum entries. Provide the number of unique states again."
   ]
  },
  {
   "cell_type": "code",
   "execution_count": 28,
   "metadata": {},
   "outputs": [
    {
     "name": "stdout",
     "output_type": "stream",
     "text": [
      "+---------------------------------+\n",
      "|Distinct Count Registration_State|\n",
      "+---------------------------------+\n",
      "|                               65|\n",
      "+---------------------------------+\n",
      "\n"
     ]
    }
   ],
   "source": [
    "nyc_2017.select('Registration_State').agg(F.countDistinct('Registration_State')\\\n",
    "                                          .alias('Distinct Count Registration_State')).show()"
   ]
  },
  {
   "cell_type": "code",
   "execution_count": 29,
   "metadata": {},
   "outputs": [
    {
     "name": "stdout",
     "output_type": "stream",
     "text": [
      "+------------------+-------+\n",
      "|Registration_State|  count|\n",
      "+------------------+-------+\n",
      "|                NY|4273951|\n",
      "|                NJ| 475825|\n",
      "|                PA| 140286|\n",
      "|                CT|  70403|\n",
      "|                FL|  69468|\n",
      "|                IN|  45525|\n",
      "|                MA|  38941|\n",
      "|                VA|  34367|\n",
      "|                MD|  30213|\n",
      "|                NC|  27152|\n",
      "|                TX|  18827|\n",
      "|                IL|  18666|\n",
      "|                GA|  17537|\n",
      "|                99|  16055|\n",
      "|                AZ|  12379|\n",
      "|                OH|  12281|\n",
      "|                CA|  12153|\n",
      "|                ME|  10806|\n",
      "|                SC|  10395|\n",
      "|                MN|  10083|\n",
      "|                OK|   9088|\n",
      "|                TN|   8514|\n",
      "|                DE|   7905|\n",
      "|                MI|   7231|\n",
      "|                RI|   5814|\n",
      "|                NH|   4119|\n",
      "|                VT|   3683|\n",
      "|                AL|   3178|\n",
      "|                WA|   3052|\n",
      "|                OR|   2622|\n",
      "|                MO|   2483|\n",
      "|                ON|   2460|\n",
      "|                WI|   2127|\n",
      "|                QB|   1998|\n",
      "|                IA|   1938|\n",
      "|                DC|   1929|\n",
      "|                CO|   1841|\n",
      "|                KY|   1795|\n",
      "|                DP|   1794|\n",
      "|                LA|   1689|\n",
      "|                MS|   1582|\n",
      "|                WV|   1265|\n",
      "|                AR|    994|\n",
      "|                SD|    859|\n",
      "|                NM|    792|\n",
      "|                ID|    763|\n",
      "|                NV|    725|\n",
      "|                KS|    706|\n",
      "|                NE|    704|\n",
      "|                UT|    561|\n",
      "|                MT|    505|\n",
      "|                GV|    348|\n",
      "|                NS|    322|\n",
      "|                AK|    298|\n",
      "|                ND|    254|\n",
      "|                WY|    188|\n",
      "|                HI|    156|\n",
      "|                AB|     79|\n",
      "|                PE|     61|\n",
      "|                NB|     57|\n",
      "|                BC|     54|\n",
      "|                PR|     38|\n",
      "|                MB|     17|\n",
      "|                SK|      9|\n",
      "|                FO|      8|\n",
      "+------------------+-------+\n",
      "\n"
     ]
    }
   ],
   "source": [
    "nyc_2017.groupby(nyc_2017['Registration_State']).count().sort(F.desc('count')).show(100)"
   ]
  },
  {
   "cell_type": "markdown",
   "metadata": {},
   "source": [
    "Using Temporary View."
   ]
  },
  {
   "cell_type": "code",
   "execution_count": 30,
   "metadata": {},
   "outputs": [
    {
     "name": "stdout",
     "output_type": "stream",
     "text": [
      "+---------------------------------+\n",
      "|Distinct Count Registration_State|\n",
      "+---------------------------------+\n",
      "|                               65|\n",
      "+---------------------------------+\n",
      "\n"
     ]
    }
   ],
   "source": [
    "spark.sql(\"select count(distinct Registration_State) as `Distinct Count Registration_State` from nyc_2017_Table\").show()"
   ]
  },
  {
   "cell_type": "code",
   "execution_count": 31,
   "metadata": {},
   "outputs": [
    {
     "name": "stdout",
     "output_type": "stream",
     "text": [
      "+------------------+-------+\n",
      "|Registration_State|  Count|\n",
      "+------------------+-------+\n",
      "|                NY|4273951|\n",
      "|                NJ| 475825|\n",
      "|                PA| 140286|\n",
      "|                CT|  70403|\n",
      "|                FL|  69468|\n",
      "|                IN|  45525|\n",
      "|                MA|  38941|\n",
      "|                VA|  34367|\n",
      "|                MD|  30213|\n",
      "|                NC|  27152|\n",
      "|                TX|  18827|\n",
      "|                IL|  18666|\n",
      "|                GA|  17537|\n",
      "|                99|  16055|\n",
      "|                AZ|  12379|\n",
      "|                OH|  12281|\n",
      "|                CA|  12153|\n",
      "|                ME|  10806|\n",
      "|                SC|  10395|\n",
      "|                MN|  10083|\n",
      "|                OK|   9088|\n",
      "|                TN|   8514|\n",
      "|                DE|   7905|\n",
      "|                MI|   7231|\n",
      "|                RI|   5814|\n",
      "|                NH|   4119|\n",
      "|                VT|   3683|\n",
      "|                AL|   3178|\n",
      "|                WA|   3052|\n",
      "|                OR|   2622|\n",
      "|                MO|   2483|\n",
      "|                ON|   2460|\n",
      "|                WI|   2127|\n",
      "|                QB|   1998|\n",
      "|                IA|   1938|\n",
      "|                DC|   1929|\n",
      "|                CO|   1841|\n",
      "|                KY|   1795|\n",
      "|                DP|   1794|\n",
      "|                LA|   1689|\n",
      "|                MS|   1582|\n",
      "|                WV|   1265|\n",
      "|                AR|    994|\n",
      "|                SD|    859|\n",
      "|                NM|    792|\n",
      "|                ID|    763|\n",
      "|                NV|    725|\n",
      "|                KS|    706|\n",
      "|                NE|    704|\n",
      "|                UT|    561|\n",
      "|                MT|    505|\n",
      "|                GV|    348|\n",
      "|                NS|    322|\n",
      "|                AK|    298|\n",
      "|                ND|    254|\n",
      "|                WY|    188|\n",
      "|                HI|    156|\n",
      "|                AB|     79|\n",
      "|                PE|     61|\n",
      "|                NB|     57|\n",
      "|                BC|     54|\n",
      "|                PR|     38|\n",
      "|                MB|     17|\n",
      "|                SK|      9|\n",
      "|                FO|      8|\n",
      "+------------------+-------+\n",
      "\n"
     ]
    }
   ],
   "source": [
    "spark.sql(\"select Registration_State, count(1) as `Count` from nyc_2017_Table group by 1 order by 2 desc\").show(100)"
   ]
  },
  {
   "cell_type": "markdown",
   "metadata": {},
   "source": [
    "#### Replace 99 with the state with the most number of violations i.e., NY"
   ]
  },
  {
   "cell_type": "code",
   "execution_count": 32,
   "metadata": {},
   "outputs": [],
   "source": [
    "nyc_2017 = nyc_2017.\\\n",
    "    withColumn(\"Registration_State\", F.when(nyc_2017[\"Registration_State\"] == '99', 'NY').\\\n",
    "    otherwise(nyc_2017[\"Registration_State\"]))"
   ]
  },
  {
   "cell_type": "code",
   "execution_count": 33,
   "metadata": {},
   "outputs": [
    {
     "name": "stdout",
     "output_type": "stream",
     "text": [
      "+------------------+-------+\n",
      "|Registration_State|  count|\n",
      "+------------------+-------+\n",
      "|                NY|4290006|\n",
      "|                NJ| 475825|\n",
      "|                PA| 140286|\n",
      "|                CT|  70403|\n",
      "|                FL|  69468|\n",
      "|                IN|  45525|\n",
      "|                MA|  38941|\n",
      "|                VA|  34367|\n",
      "|                MD|  30213|\n",
      "|                NC|  27152|\n",
      "|                TX|  18827|\n",
      "|                IL|  18666|\n",
      "|                GA|  17537|\n",
      "|                AZ|  12379|\n",
      "|                OH|  12281|\n",
      "|                CA|  12153|\n",
      "|                ME|  10806|\n",
      "|                SC|  10395|\n",
      "|                MN|  10083|\n",
      "|                OK|   9088|\n",
      "|                TN|   8514|\n",
      "|                DE|   7905|\n",
      "|                MI|   7231|\n",
      "|                RI|   5814|\n",
      "|                NH|   4119|\n",
      "|                VT|   3683|\n",
      "|                AL|   3178|\n",
      "|                WA|   3052|\n",
      "|                OR|   2622|\n",
      "|                MO|   2483|\n",
      "|                ON|   2460|\n",
      "|                WI|   2127|\n",
      "|                QB|   1998|\n",
      "|                IA|   1938|\n",
      "|                DC|   1929|\n",
      "|                CO|   1841|\n",
      "|                KY|   1795|\n",
      "|                DP|   1794|\n",
      "|                LA|   1689|\n",
      "|                MS|   1582|\n",
      "|                WV|   1265|\n",
      "|                AR|    994|\n",
      "|                SD|    859|\n",
      "|                NM|    792|\n",
      "|                ID|    763|\n",
      "|                NV|    725|\n",
      "|                KS|    706|\n",
      "|                NE|    704|\n",
      "|                UT|    561|\n",
      "|                MT|    505|\n",
      "|                GV|    348|\n",
      "|                NS|    322|\n",
      "|                AK|    298|\n",
      "|                ND|    254|\n",
      "|                WY|    188|\n",
      "|                HI|    156|\n",
      "|                AB|     79|\n",
      "|                PE|     61|\n",
      "|                NB|     57|\n",
      "|                BC|     54|\n",
      "|                PR|     38|\n",
      "|                MB|     17|\n",
      "|                SK|      9|\n",
      "|                FO|      8|\n",
      "+------------------+-------+\n",
      "\n"
     ]
    }
   ],
   "source": [
    "nyc_2017.groupby(nyc_2017['Registration_State']).count().sort(F.desc('count')).show(100)"
   ]
  },
  {
   "cell_type": "code",
   "execution_count": 34,
   "metadata": {},
   "outputs": [
    {
     "name": "stdout",
     "output_type": "stream",
     "text": [
      "+---------------------------------+\n",
      "|Distinct Count Registration_State|\n",
      "+---------------------------------+\n",
      "|                               64|\n",
      "+---------------------------------+\n",
      "\n"
     ]
    }
   ],
   "source": [
    "# Number of unique states\n",
    "nyc_2017.select('Registration_State').agg(F.countDistinct('Registration_State')\\\n",
    "                                          .alias('Distinct Count Registration_State')).show()"
   ]
  },
  {
   "cell_type": "markdown",
   "metadata": {},
   "source": [
    "Recreate the temporary view to reflect the changes that have been done on the dataframe."
   ]
  },
  {
   "cell_type": "code",
   "execution_count": 35,
   "metadata": {},
   "outputs": [],
   "source": [
    "nyc_2017.createOrReplaceTempView(\"nyc_2017_Table\")"
   ]
  },
  {
   "cell_type": "code",
   "execution_count": 36,
   "metadata": {},
   "outputs": [
    {
     "name": "stdout",
     "output_type": "stream",
     "text": [
      "+---------------------------------+\n",
      "|Distinct Count Registration_State|\n",
      "+---------------------------------+\n",
      "|                               64|\n",
      "+---------------------------------+\n",
      "\n"
     ]
    }
   ],
   "source": [
    "spark.sql(\"select count(distinct Registration_State) as `Distinct Count Registration_State` from nyc_2017_Table\").show()"
   ]
  },
  {
   "cell_type": "code",
   "execution_count": 37,
   "metadata": {},
   "outputs": [
    {
     "name": "stdout",
     "output_type": "stream",
     "text": [
      "+------------------+-------+\n",
      "|Registration_State|  Count|\n",
      "+------------------+-------+\n",
      "|                NY|4290006|\n",
      "|                NJ| 475825|\n",
      "|                PA| 140286|\n",
      "|                CT|  70403|\n",
      "|                FL|  69468|\n",
      "|                IN|  45525|\n",
      "|                MA|  38941|\n",
      "|                VA|  34367|\n",
      "|                MD|  30213|\n",
      "|                NC|  27152|\n",
      "|                TX|  18827|\n",
      "|                IL|  18666|\n",
      "|                GA|  17537|\n",
      "|                AZ|  12379|\n",
      "|                OH|  12281|\n",
      "|                CA|  12153|\n",
      "|                ME|  10806|\n",
      "|                SC|  10395|\n",
      "|                MN|  10083|\n",
      "|                OK|   9088|\n",
      "|                TN|   8514|\n",
      "|                DE|   7905|\n",
      "|                MI|   7231|\n",
      "|                RI|   5814|\n",
      "|                NH|   4119|\n",
      "|                VT|   3683|\n",
      "|                AL|   3178|\n",
      "|                WA|   3052|\n",
      "|                OR|   2622|\n",
      "|                MO|   2483|\n",
      "|                ON|   2460|\n",
      "|                WI|   2127|\n",
      "|                QB|   1998|\n",
      "|                IA|   1938|\n",
      "|                DC|   1929|\n",
      "|                CO|   1841|\n",
      "|                KY|   1795|\n",
      "|                DP|   1794|\n",
      "|                LA|   1689|\n",
      "|                MS|   1582|\n",
      "|                WV|   1265|\n",
      "|                AR|    994|\n",
      "|                SD|    859|\n",
      "|                NM|    792|\n",
      "|                ID|    763|\n",
      "|                NV|    725|\n",
      "|                KS|    706|\n",
      "|                NE|    704|\n",
      "|                UT|    561|\n",
      "|                MT|    505|\n",
      "|                GV|    348|\n",
      "|                NS|    322|\n",
      "|                AK|    298|\n",
      "|                ND|    254|\n",
      "|                WY|    188|\n",
      "|                HI|    156|\n",
      "|                AB|     79|\n",
      "|                PE|     61|\n",
      "|                NB|     57|\n",
      "|                BC|     54|\n",
      "|                PR|     38|\n",
      "|                MB|     17|\n",
      "|                SK|      9|\n",
      "|                FO|      8|\n",
      "+------------------+-------+\n",
      "\n"
     ]
    }
   ],
   "source": [
    "spark.sql(\"select Registration_State, count(1) as `Count` from nyc_2017_Table group by 1 order by 2 desc\").show(100)"
   ]
  },
  {
   "cell_type": "markdown",
   "metadata": {},
   "source": [
    "---"
   ]
  },
  {
   "cell_type": "markdown",
   "metadata": {},
   "source": [
    "### Aggregation tasks"
   ]
  },
  {
   "cell_type": "markdown",
   "metadata": {},
   "source": [
    "### 1.How often does each violation code occur? Display the frequency of the top five violation codes."
   ]
  },
  {
   "cell_type": "code",
   "execution_count": 38,
   "metadata": {},
   "outputs": [
    {
     "name": "stdout",
     "output_type": "stream",
     "text": [
      "+--------------+------+\n",
      "|Violation_Code| count|\n",
      "+--------------+------+\n",
      "|            21|768087|\n",
      "|            36|662765|\n",
      "|            38|542079|\n",
      "|            14|476664|\n",
      "|            20|319646|\n",
      "+--------------+------+\n",
      "only showing top 5 rows\n",
      "\n"
     ]
    }
   ],
   "source": [
    "nyc_2017.groupby(nyc_2017['Violation_Code']).count().sort(F.desc('count')).show(5)"
   ]
  },
  {
   "cell_type": "markdown",
   "metadata": {},
   "source": [
    "Using TempView"
   ]
  },
  {
   "cell_type": "code",
   "execution_count": 39,
   "metadata": {},
   "outputs": [
    {
     "name": "stdout",
     "output_type": "stream",
     "text": [
      "+--------------+--------+\n",
      "|Violation_Code|count(1)|\n",
      "+--------------+--------+\n",
      "|            21|  768087|\n",
      "|            36|  662765|\n",
      "|            38|  542079|\n",
      "|            14|  476664|\n",
      "|            20|  319646|\n",
      "+--------------+--------+\n",
      "\n"
     ]
    }
   ],
   "source": [
    "spark.sql(\"select Violation_Code , count(1) from nyc_2017_Table group by 1 order by 2 desc limit 5\").show()"
   ]
  },
  {
   "cell_type": "code",
   "execution_count": 40,
   "metadata": {},
   "outputs": [],
   "source": [
    "import matplotlib.pyplot as plt \n",
    "%matplotlib inline"
   ]
  },
  {
   "cell_type": "code",
   "execution_count": 41,
   "metadata": {},
   "outputs": [
    {
     "data": {
      "text/plain": [
       "<Figure size 432x288 with 0 Axes>"
      ]
     },
     "metadata": {},
     "output_type": "display_data"
    },
    {
     "data": {
      "image/png": "[encoded data removed]",
      "text/plain": [
       "<Figure size 648x360 with 1 Axes>"
      ]
     },
     "metadata": {},
     "output_type": "display_data"
    }
   ],
   "source": [
    "plt.figure()\n",
    "\n",
    "ax1=nyc_2017.groupby(nyc_2017['Violation_Code']).count().sort(F.desc('count')).limit(5)\\\n",
    ".toPandas()\\\n",
    ".plot(x='Violation_Code',y='count',kind='bar',rot=0,legend=False,figsize=(9,5))\n",
    "\n",
    "for i in ax1.patches:\n",
    "    ax1.text(i.get_x()+.1, i.get_height()+1000, \\\n",
    "            str(i.get_height()))\n",
    "\n",
    "plt.ylabel(\"Count\")\n",
    "plt.show()"
   ]
  },
  {
   "cell_type": "markdown",
   "metadata": {},
   "source": [
    "The top 5 violations by type of Violation Code are:\n",
    "    1. Street Cleaning (Code 21)\n",
    "    2. Exceeding the posted speed limit in or near a designated school zone (Code 36)\n",
    "    3. Parking Meter -- Failing to show a receipt or tag in the windshield (Code 38)\n",
    "    4. General No Standing (Code 14)\n",
    "    5. General No Parking (Code 20)\n",
    "   \n",
    "Source : https://www1.nyc.gov/site/finance/vehicles/services-violation-codes.page"
   ]
  },
  {
   "cell_type": "markdown",
   "metadata": {},
   "source": [
    "--- "
   ]
  },
  {
   "cell_type": "markdown",
   "metadata": {},
   "source": [
    "### 2. How often does each 'vehicle body type' get a parking ticket? How about the 'vehicle make'? (Hint: Find the top 5 for both.)"
   ]
  },
  {
   "cell_type": "markdown",
   "metadata": {},
   "source": [
    "##### Vehicle_Body_Type"
   ]
  },
  {
   "cell_type": "code",
   "execution_count": 42,
   "metadata": {},
   "outputs": [
    {
     "name": "stdout",
     "output_type": "stream",
     "text": [
      "+-----------------+-------+\n",
      "|Vehicle_Body_Type|  count|\n",
      "+-----------------+-------+\n",
      "|             SUBN|1883954|\n",
      "|             4DSD|1547312|\n",
      "|              VAN| 724029|\n",
      "|             DELV| 358984|\n",
      "|              SDN| 194197|\n",
      "+-----------------+-------+\n",
      "only showing top 5 rows\n",
      "\n"
     ]
    }
   ],
   "source": [
    "nyc_2017.groupby(nyc_2017['Vehicle_Body_Type']).count().sort(F.desc('count')).show(5)"
   ]
  },
  {
   "cell_type": "code",
   "execution_count": 43,
   "metadata": {},
   "outputs": [
    {
     "name": "stdout",
     "output_type": "stream",
     "text": [
      "+-----------------+--------+\n",
      "|Vehicle_Body_Type|count(1)|\n",
      "+-----------------+--------+\n",
      "|             SUBN| 1883954|\n",
      "|             4DSD| 1547312|\n",
      "|              VAN|  724029|\n",
      "|             DELV|  358984|\n",
      "|              SDN|  194197|\n",
      "+-----------------+--------+\n",
      "\n"
     ]
    }
   ],
   "source": [
    "spark.sql(\"select Vehicle_Body_Type , count(1) from nyc_2017_Table group by 1 order by 2 desc limit 5\").show()"
   ]
  },
  {
   "cell_type": "code",
   "execution_count": 44,
   "metadata": {},
   "outputs": [
    {
     "data": {
      "text/plain": [
       "<Figure size 432x288 with 0 Axes>"
      ]
     },
     "metadata": {},
     "output_type": "display_data"
    },
    {
     "data": {
      "image/png": "[encoded data removed]",
      "text/plain": [
       "<Figure size 648x360 with 1 Axes>"
      ]
     },
     "metadata": {},
     "output_type": "display_data"
    }
   ],
   "source": [
    "plt.figure()\n",
    "\n",
    "ax2=nyc_2017.groupby(nyc_2017['Vehicle_Body_Type']).count().sort(F.desc('count')).limit(5)\\\n",
    ".toPandas()\\\n",
    ".plot(x='Vehicle_Body_Type',y='count',kind='bar',rot=0,legend=False,figsize=(9,5))\n",
    "\n",
    "for i in ax2.patches:\n",
    "    ax2.text(i.get_x()+.1, i.get_height()+4000, \\\n",
    "            str(i.get_height()))\n",
    "\n",
    "plt.ylabel(\"Count\")\n",
    "plt.show()"
   ]
  },
  {
   "cell_type": "markdown",
   "metadata": {},
   "source": [
    "The top 5 violations by type of Vehicle Body Type are:\n",
    "    1. Suburban Cars (Code : SUBN)\n",
    "    2. Four Door Sedan (Code : 4DSD)\n",
    "    3. Van Truck (Code : VAN)\n",
    "    4. Delivery Truck (Code : DELV)\n",
    "    5. Sedan (Code : SDN) -- This is an approximate guess as this code was not found in the data-dict mentioned below.\n",
    "   \n",
    "Source : https://data.ny.gov/api/assets/83055271-29A6-4ED4-9374-E159F30DB5AE"
   ]
  },
  {
   "cell_type": "markdown",
   "metadata": {},
   "source": [
    "##### Vehicle_Make"
   ]
  },
  {
   "cell_type": "code",
   "execution_count": 45,
   "metadata": {},
   "outputs": [
    {
     "name": "stdout",
     "output_type": "stream",
     "text": [
      "+------------+------+\n",
      "|Vehicle_Make| count|\n",
      "+------------+------+\n",
      "|        FORD|636844|\n",
      "|       TOYOT|605291|\n",
      "|       HONDA|538884|\n",
      "|       NISSA|462017|\n",
      "|       CHEVR|356032|\n",
      "+------------+------+\n",
      "only showing top 5 rows\n",
      "\n"
     ]
    }
   ],
   "source": [
    "nyc_2017.groupby(nyc_2017['Vehicle_Make']).count().sort(F.desc('count')).show(5)"
   ]
  },
  {
   "cell_type": "code",
   "execution_count": 46,
   "metadata": {},
   "outputs": [
    {
     "name": "stdout",
     "output_type": "stream",
     "text": [
      "+------------+--------+\n",
      "|Vehicle_Make|count(1)|\n",
      "+------------+--------+\n",
      "|        FORD|  636844|\n",
      "|       TOYOT|  605291|\n",
      "|       HONDA|  538884|\n",
      "|       NISSA|  462017|\n",
      "|       CHEVR|  356032|\n",
      "+------------+--------+\n",
      "\n"
     ]
    }
   ],
   "source": [
    "spark.sql(\"select Vehicle_Make , count(1) from nyc_2017_Table group by 1 order by 2 desc limit 5\").show()"
   ]
  },
  {
   "cell_type": "code",
   "execution_count": 47,
   "metadata": {},
   "outputs": [
    {
     "data": {
      "text/plain": [
       "<Figure size 432x288 with 0 Axes>"
      ]
     },
     "metadata": {},
     "output_type": "display_data"
    },
    {
     "data": {
      "image/png": "[encoded data removed]",
      "text/plain": [
       "<Figure size 648x360 with 1 Axes>"
      ]
     },
     "metadata": {},
     "output_type": "display_data"
    }
   ],
   "source": [
    "plt.figure()\n",
    "\n",
    "ax3=nyc_2017.groupby(nyc_2017['Vehicle_Make']).count().sort(F.desc('count')).limit(5)\\\n",
    ".toPandas()\\\n",
    ".plot(x='Vehicle_Make',y='count',kind='bar',rot=0,legend=False,figsize=(9,5))\n",
    "\n",
    "for i in ax3.patches:\n",
    "    ax3.text(i.get_x()+.1, i.get_height()+2000, \\\n",
    "            str(i.get_height()))\n",
    "\n",
    "plt.ylabel(\"Count\")\n",
    "plt.show()"
   ]
  },
  {
   "cell_type": "markdown",
   "metadata": {},
   "source": [
    "The top 5 violations by Vehicle Make are:\n",
    "    1. FORD\n",
    "    2. TOYOTA\n",
    "    3. HONDA\n",
    "    4. NISSAN\n",
    "    5. CHEVROLET\n",
    "    "
   ]
  },
  {
   "cell_type": "markdown",
   "metadata": {},
   "source": [
    "--- "
   ]
  },
  {
   "cell_type": "markdown",
   "metadata": {},
   "source": [
    "### 3. A precinct is a police station that has a certain zone of the city under its command. Find the (5 highest) frequencies of tickets for each of the following:"
   ]
  },
  {
   "cell_type": "markdown",
   "metadata": {},
   "source": [
    "##### 3.1 'Violation Precinct' (This is the precinct of the zone where the violation occurred). Using this, can you draw any insights for parking violations in any specific areas of the city?"
   ]
  },
  {
   "cell_type": "code",
   "execution_count": 48,
   "metadata": {},
   "outputs": [
    {
     "name": "stdout",
     "output_type": "stream",
     "text": [
      "+------------------+------+\n",
      "|Violation_Precinct| count|\n",
      "+------------------+------+\n",
      "|                 0|925596|\n",
      "|                19|274445|\n",
      "|                14|203553|\n",
      "|                 1|174702|\n",
      "|                18|169131|\n",
      "|               114|147444|\n",
      "+------------------+------+\n",
      "only showing top 6 rows\n",
      "\n"
     ]
    }
   ],
   "source": [
    "nyc_2017.groupby(nyc_2017['Violation_Precinct']).count().sort(F.desc('count')).show(6)"
   ]
  },
  {
   "cell_type": "code",
   "execution_count": 49,
   "metadata": {},
   "outputs": [
    {
     "name": "stdout",
     "output_type": "stream",
     "text": [
      "+------------------+------+\n",
      "|Violation_Precinct| count|\n",
      "+------------------+------+\n",
      "|                19|274445|\n",
      "|                14|203553|\n",
      "|                 1|174702|\n",
      "|                18|169131|\n",
      "|               114|147444|\n",
      "+------------------+------+\n",
      "only showing top 5 rows\n",
      "\n"
     ]
    }
   ],
   "source": [
    "# Excluding Precinct 0 , which is a known erroneous data\n",
    "nyc_2017.filter(nyc_2017['Violation_Precinct']!='0').\\\n",
    "   groupby(nyc_2017['Violation_Precinct']).count().\\\n",
    "   sort(F.desc('count')).show(5)"
   ]
  },
  {
   "cell_type": "code",
   "execution_count": 50,
   "metadata": {},
   "outputs": [
    {
     "name": "stdout",
     "output_type": "stream",
     "text": [
      "+------------------+------+\n",
      "|Violation_Precinct| COUNT|\n",
      "+------------------+------+\n",
      "|                 0|925596|\n",
      "|                19|274445|\n",
      "|                14|203553|\n",
      "|                 1|174702|\n",
      "|                18|169131|\n",
      "|               114|147444|\n",
      "+------------------+------+\n",
      "\n"
     ]
    }
   ],
   "source": [
    "query = \"\"\"\n",
    "select Violation_Precinct, count(1) as COUNT\n",
    "from nyc_2017_Table\n",
    "group by 1\n",
    "order by 2 desc\n",
    "limit 6\n",
    "\"\"\"\n",
    "spark.sql(query).show()"
   ]
  },
  {
   "cell_type": "code",
   "execution_count": 51,
   "metadata": {},
   "outputs": [
    {
     "name": "stdout",
     "output_type": "stream",
     "text": [
      "+------------------+------+\n",
      "|Violation_Precinct| COUNT|\n",
      "+------------------+------+\n",
      "|                19|274445|\n",
      "|                14|203553|\n",
      "|                 1|174702|\n",
      "|                18|169131|\n",
      "|               114|147444|\n",
      "+------------------+------+\n",
      "\n"
     ]
    }
   ],
   "source": [
    "# Excluding Precinct 0 , which is a known erroneous data\n",
    "query = \"\"\"\n",
    "select Violation_Precinct, count(1) as COUNT\n",
    "from nyc_2017_Table\n",
    "where Violation_Precinct != 0\n",
    "group by 1\n",
    "order by 2 desc\n",
    "limit 5\n",
    "\"\"\"\n",
    "spark.sql(query).show()"
   ]
  },
  {
   "cell_type": "markdown",
   "metadata": {},
   "source": [
    "The top 5 violations by valid Violation Precinct are:\n",
    "    1. Upper East Side of Manhattan (Code : 19)\n",
    "    2. Midtown South Precinct, Manhattan (Code : 14)\n",
    "    3. Southernmost tip of Manhattan (Code : 1)\n",
    "    4. Midtown, Manhattan south of Central Park(Code : 18)\n",
    "    5. Northwestern portion of Queens(Code : 114)\n",
    "\n",
    "Source : https://www1.nyc.gov/site/nypd/bureaus/patrol/precincts-landing.page"
   ]
  },
  {
   "cell_type": "markdown",
   "metadata": {},
   "source": [
    "##### 3.2. 'Issuer Precinct' (This is the precinct that issued the ticket.)"
   ]
  },
  {
   "cell_type": "code",
   "execution_count": 52,
   "metadata": {},
   "outputs": [
    {
     "name": "stdout",
     "output_type": "stream",
     "text": [
      "+---------------+-------+\n",
      "|Issuer_Precinct|  count|\n",
      "+---------------+-------+\n",
      "|              0|1078406|\n",
      "|             19| 266961|\n",
      "|             14| 200495|\n",
      "|              1| 168740|\n",
      "|             18| 162994|\n",
      "|            114| 144054|\n",
      "+---------------+-------+\n",
      "only showing top 6 rows\n",
      "\n"
     ]
    }
   ],
   "source": [
    "nyc_2017.groupby(nyc_2017['Issuer_Precinct']).count().sort(F.desc('count')).show(6)"
   ]
  },
  {
   "cell_type": "code",
   "execution_count": 53,
   "metadata": {},
   "outputs": [
    {
     "name": "stdout",
     "output_type": "stream",
     "text": [
      "+---------------+------+\n",
      "|Issuer_Precinct| count|\n",
      "+---------------+------+\n",
      "|             19|266961|\n",
      "|             14|200495|\n",
      "|              1|168740|\n",
      "|             18|162994|\n",
      "|            114|144054|\n",
      "+---------------+------+\n",
      "only showing top 5 rows\n",
      "\n"
     ]
    }
   ],
   "source": [
    "# Excluding Precinct 0 , which is a known erroneous data\n",
    "nyc_2017.filter(nyc_2017['Issuer_Precinct']!='0').\\\n",
    "   groupby(nyc_2017['Issuer_Precinct']).count().\\\n",
    "   sort(F.desc('count')).show(5)"
   ]
  },
  {
   "cell_type": "code",
   "execution_count": 54,
   "metadata": {},
   "outputs": [
    {
     "name": "stdout",
     "output_type": "stream",
     "text": [
      "+---------------+-------+\n",
      "|Issuer_Precinct|  COUNT|\n",
      "+---------------+-------+\n",
      "|              0|1078406|\n",
      "|             19| 266961|\n",
      "|             14| 200495|\n",
      "|              1| 168740|\n",
      "|             18| 162994|\n",
      "|            114| 144054|\n",
      "+---------------+-------+\n",
      "\n"
     ]
    }
   ],
   "source": [
    "query = \"\"\"\n",
    "select Issuer_Precinct, count(1) as COUNT\n",
    "from nyc_2017_Table\n",
    "group by 1\n",
    "order by 2 desc\n",
    "limit 6\n",
    "\"\"\"\n",
    "spark.sql(query).show()"
   ]
  },
  {
   "cell_type": "code",
   "execution_count": 55,
   "metadata": {},
   "outputs": [
    {
     "name": "stdout",
     "output_type": "stream",
     "text": [
      "+---------------+------+\n",
      "|Issuer_Precinct| COUNT|\n",
      "+---------------+------+\n",
      "|             19|266961|\n",
      "|             14|200495|\n",
      "|              1|168740|\n",
      "|             18|162994|\n",
      "|            114|144054|\n",
      "+---------------+------+\n",
      "\n"
     ]
    }
   ],
   "source": [
    "# Excluding Precinct 0 , which is a known erroneous data\n",
    "query = \"\"\"\n",
    "select Issuer_Precinct, count(1) as COUNT\n",
    "from nyc_2017_Table\n",
    "where Issuer_Precinct != 0\n",
    "group by 1\n",
    "order by 2 desc\n",
    "limit 5\n",
    "\"\"\"\n",
    "spark.sql(query).show()"
   ]
  },
  {
   "cell_type": "markdown",
   "metadata": {},
   "source": [
    "The top 6 violations by Issuer Precinct are:\n",
    "    1. Upper East Side of Manhattan (Code : 19)\n",
    "    2. Midtown South Precinct, Manhattan (Code : 14)\n",
    "    3. Southernmost tip of Manhattan (Code : 1)\n",
    "    4. Midtown, Manhattan south of Central Park(Code : 18)\n",
    "    5. Northwestern portion of Queens(Code : 114)\n",
    "\n",
    "Source : https://www1.nyc.gov/site/nypd/bureaus/patrol/precincts-landing.page\n",
    "\n",
    "--- "
   ]
  },
  {
   "cell_type": "markdown",
   "metadata": {},
   "source": [
    "**The Violation Precinct indicates the precinct(area) in which the violation happened and the Issuer Precinct indicates the precinct which issued the ticket. The top 5 in both these categories are the same precincts, meaning the officers attached to a precinct issue tickets to the vehicles violating the rule in their own precincts(areas) most of the time.**\n",
    "\n",
    "**Also, we notice that the area around Midtown Manhattan and Queens(opposite side of Midtown Manhattan) have the highest number of tickets. This is probably due to fact that the mentioned area is having a lot of commercial buildings, office, restaurents etc. leading to many parking violations.**\n",
    "\n",
    "** Although, there are a lot of invalid precinct codes in both Violation Precinct and Issuer Precinct, we are assuming that these are issues due to incorrect data capturing and a workaround  can be done to correctly impute these invalid precincts with valid precincts. Hence, we are not removing records which are having invalid precincts (Violation or Issuer) which constitute almost 20% of the data. **"
   ]
  },
  {
   "cell_type": "markdown",
   "metadata": {},
   "source": [
    "---"
   ]
  },
  {
   "cell_type": "markdown",
   "metadata": {},
   "source": [
    "### 4. Find the violation code frequencies for three precincts that have issued the most number of tickets. Do these precinct zones have an exceptionally high frequency of certain violation codes? Are these codes common across precincts? \n",
    "\n",
    "The top 3 Issuer_Precincts are : 19, 14 and 1."
   ]
  },
  {
   "cell_type": "code",
   "execution_count": 56,
   "metadata": {},
   "outputs": [
    {
     "name": "stdout",
     "output_type": "stream",
     "text": [
      "+--------------+------+\n",
      "|Violation_Code| Count|\n",
      "+--------------+------+\n",
      "|            14|113187|\n",
      "|            46| 68869|\n",
      "|            38| 48190|\n",
      "|            37| 43782|\n",
      "|            69| 39046|\n",
      "|            21| 33499|\n",
      "|            20| 32798|\n",
      "|            31| 30488|\n",
      "|            16| 29947|\n",
      "|            40| 19590|\n",
      "|            19| 19262|\n",
      "|            47| 19098|\n",
      "|            84| 14963|\n",
      "|            71| 13831|\n",
      "|            42| 13638|\n",
      "|            17| 12524|\n",
      "|            10| 11674|\n",
      "|            70|  8103|\n",
      "|            82|  6715|\n",
      "|            48|  5806|\n",
      "+--------------+------+\n",
      "only showing top 20 rows\n",
      "\n"
     ]
    }
   ],
   "source": [
    "query = \"\"\"\n",
    "SELECT \n",
    "Violation_Code,\n",
    "count(Violation_Code) as Count \n",
    "FROM nyc_2017_Table WHERE Issuer_Precinct IN ('19', '14', '1')\n",
    "GROUP BY Violation_Code\n",
    "ORDER BY Count DESC\n",
    "\"\"\"\n",
    "spark.sql(query).show()"
   ]
  },
  {
   "cell_type": "markdown",
   "metadata": {},
   "source": [
    "The top 5 violations by violation code in the three precincts that have issued the highest number of tickets are:\n",
    "    1. General No Standing (Code 14)\n",
    "    2. Double Parking (Code 46)\n",
    "    3. Failing to show a receipt or tag in the windshield (Code 38)\n",
    "    4. Parking in excess of the allowed time (Code 37)\n",
    "    5. Parking in front of a pedestrian ramp (Code 69)"
   ]
  },
  {
   "cell_type": "markdown",
   "metadata": {},
   "source": [
    "#### Violation_Code by Precinct"
   ]
  },
  {
   "cell_type": "code",
   "execution_count": 57,
   "metadata": {},
   "outputs": [
    {
     "name": "stdout",
     "output_type": "stream",
     "text": [
      "+---------------+--------------+-----+\n",
      "|Issuer_Precinct|Violation_Code|Count|\n",
      "+---------------+--------------+-----+\n",
      "|             19|            46|48445|\n",
      "|             19|            38|36386|\n",
      "|             19|            37|36056|\n",
      "|             19|            14|29797|\n",
      "|             19|            21|28415|\n",
      "+---------------+--------------+-----+\n",
      "\n"
     ]
    }
   ],
   "source": [
    "query = \"\"\"\n",
    "SELECT \n",
    "Issuer_Precinct,\n",
    "Violation_Code, \n",
    "count(2) as Count \n",
    "FROM nyc_2017_Table \n",
    "WHERE Issuer_Precinct = '19'\n",
    "GROUP BY Issuer_Precinct , Violation_Code\n",
    "ORDER BY Count DESC\n",
    "limit 5\n",
    "\"\"\"\n",
    "spark.sql(query).show()"
   ]
  },
  {
   "cell_type": "code",
   "execution_count": 58,
   "metadata": {},
   "outputs": [
    {
     "name": "stdout",
     "output_type": "stream",
     "text": [
      "+---------------+--------------+-----+\n",
      "|Issuer_Precinct|Violation_Code|Count|\n",
      "+---------------+--------------+-----+\n",
      "|             14|            14|45036|\n",
      "|             14|            69|30464|\n",
      "|             14|            31|22555|\n",
      "|             14|            47|18364|\n",
      "|             14|            42|10027|\n",
      "+---------------+--------------+-----+\n",
      "\n"
     ]
    }
   ],
   "source": [
    "query = \"\"\"\n",
    "SELECT \n",
    "Issuer_Precinct,\n",
    "Violation_Code, \n",
    "count(2) as Count \n",
    "FROM nyc_2017_Table \n",
    "WHERE Issuer_Precinct = '14'\n",
    "GROUP BY Issuer_Precinct , Violation_Code\n",
    "ORDER BY Count DESC\n",
    "limit 5\n",
    "\"\"\"\n",
    "spark.sql(query).show()"
   ]
  },
  {
   "cell_type": "code",
   "execution_count": 59,
   "metadata": {},
   "outputs": [
    {
     "name": "stdout",
     "output_type": "stream",
     "text": [
      "+---------------+--------------+-----+\n",
      "|Issuer_Precinct|Violation_Code|Count|\n",
      "+---------------+--------------+-----+\n",
      "|              1|            14|38354|\n",
      "|              1|            16|19081|\n",
      "|              1|            20|15408|\n",
      "|              1|            46|12745|\n",
      "|              1|            38| 8535|\n",
      "+---------------+--------------+-----+\n",
      "\n"
     ]
    }
   ],
   "source": [
    "query = \"\"\"\n",
    "SELECT \n",
    "Issuer_Precinct,\n",
    "Violation_Code, \n",
    "count(2) as Count \n",
    "FROM nyc_2017_Table \n",
    "WHERE Issuer_Precinct = '1'\n",
    "GROUP BY Issuer_Precinct , Violation_Code\n",
    "ORDER BY Count DESC\n",
    "limit 5\n",
    "\"\"\"\n",
    "spark.sql(query).show()"
   ]
  },
  {
   "cell_type": "markdown",
   "metadata": {},
   "source": [
    "**Violation_Code 14 - \"General No Standing\"** appears in top 5 violations in the 3 precincts that have issued the highest number of tickets.\n",
    "\n",
    "This seems to be a very common violation in the 3 percinctsthat have issued the highest number of tickets."
   ]
  },
  {
   "cell_type": "markdown",
   "metadata": {},
   "source": [
    "--- "
   ]
  },
  {
   "cell_type": "markdown",
   "metadata": {},
   "source": [
    "### 5.Find out the properties of parking violations across different times of the day:"
   ]
  },
  {
   "cell_type": "markdown",
   "metadata": {},
   "source": [
    "- Find a way to deal with missing values, if any.\n",
    "(Hint: Check for the null values using 'isNull' under the SQL. Also, to remove the null values, check the 'dropna' command in the API documentation.)"
   ]
  },
  {
   "cell_type": "code",
   "execution_count": 60,
   "metadata": {},
   "outputs": [
    {
     "name": "stdout",
     "output_type": "stream",
     "text": [
      "Column name Summons_Number       has 0 null Values\n",
      "Column name Plate_ID             has 0 null Values\n",
      "Column name Registration_State   has 0 null Values\n",
      "Column name Issue_Date           has 0 null Values\n",
      "Column name Violation_Code       has 0 null Values\n",
      "Column name Vehicle_Body_Type    has 0 null Values\n",
      "Column name Vehicle_Make         has 0 null Values\n",
      "Column name Violation_Precinct   has 0 null Values\n",
      "Column name Issuer_Precinct      has 0 null Values\n",
      "Column name Violation_Time       has 0 null Values\n"
     ]
    }
   ],
   "source": [
    "for c in nyc_2017.columns:\n",
    "    _ = nyc_2017.filter(nyc_2017[c].isNull()).count()\n",
    "    print(\"Column name {:20} has {} null Values\".format(c,_))"
   ]
  },
  {
   "cell_type": "code",
   "execution_count": 61,
   "metadata": {},
   "outputs": [
    {
     "name": "stdout",
     "output_type": "stream",
     "text": [
      "Column name Summons_Number       has 0 with 'nan' string.\n",
      "Column name Plate_ID             has 252 with 'nan' string.\n",
      "Column name Registration_State   has 0 with 'nan' string.\n",
      "Column name Issue_Date           has 0 with 'nan' string.\n",
      "Column name Violation_Code       has 0 with 'nan' string.\n",
      "Column name Vehicle_Body_Type    has 20201 with 'nan' string.\n",
      "Column name Vehicle_Make         has 38509 with 'nan' string.\n",
      "Column name Violation_Precinct   has 0 with 'nan' string.\n",
      "Column name Issuer_Precinct      has 0 with 'nan' string.\n",
      "Column name Violation_Time       has 16 with 'nan' string.\n"
     ]
    }
   ],
   "source": [
    "for c in nyc_2017.columns:\n",
    "    _ = nyc_2017.filter(nyc_2017[c]=='nan').count()\n",
    "    print(\"Column name {:20} has {} with 'nan' string.\".format(c,_))"
   ]
  },
  {
   "cell_type": "markdown",
   "metadata": {},
   "source": [
    "Currently we are analyzing only the Violation_Time column which has 16 entries with 'nan' string.\n",
    "\n",
    "Apart from this, the Violation_Time field is specified in a strange format. We need to find a way to make this a time attribute that can be used to divide into 6 timezone groups."
   ]
  },
  {
   "cell_type": "markdown",
   "metadata": {},
   "source": [
    "The pattern that is found in the Violation_Time column is **2-digit Hours (HH)** followed by **2-digit Minutes (MM)** and finally ends with **A meaning AM** or **P meaning PM**."
   ]
  },
  {
   "cell_type": "markdown",
   "metadata": {},
   "source": [
    "Lets check the distinct values found in the last character of the string."
   ]
  },
  {
   "cell_type": "code",
   "execution_count": 62,
   "metadata": {},
   "outputs": [
    {
     "name": "stdout",
     "output_type": "stream",
     "text": [
      "+-------------------------------+\n",
      "|substring(Violation_Time, 5, 1)|\n",
      "+-------------------------------+\n",
      "|                              0|\n",
      "|                              A|\n",
      "|                              P|\n",
      "|                               |\n",
      "+-------------------------------+\n",
      "\n"
     ]
    }
   ],
   "source": [
    "query=\"\"\"\n",
    "select distinct(substr(Violation_Time,5,1)) \n",
    "from nyc_2017_Table \n",
    "\"\"\"\n",
    "spark.sql(query).show()"
   ]
  },
  {
   "cell_type": "markdown",
   "metadata": {},
   "source": [
    "There are characters other thna 'A' and 'P' which are erroneous and will have to be discarded."
   ]
  },
  {
   "cell_type": "markdown",
   "metadata": {},
   "source": [
    "Lets check the distinct hours for both AM and PM "
   ]
  },
  {
   "cell_type": "code",
   "execution_count": 64,
   "metadata": {},
   "outputs": [
    {
     "name": "stdout",
     "output_type": "stream",
     "text": [
      "+--------+------+\n",
      "|AM Hours| count|\n",
      "+--------+------+\n",
      "|      .9|     1|\n",
      "|      0.|     1|\n",
      "|      00| 28463|\n",
      "|      01| 46069|\n",
      "|      02| 40312|\n",
      "|      03| 32453|\n",
      "|      04| 14545|\n",
      "|      05| 43154|\n",
      "|      06|121552|\n",
      "|      07|270629|\n",
      "|      08|503846|\n",
      "|      09|595631|\n",
      "|      10|489457|\n",
      "|      11|574632|\n",
      "|      12| 17236|\n",
      "+--------+------+\n",
      "\n"
     ]
    }
   ],
   "source": [
    "query=\"\"\"\n",
    "select distinct (substr(Violation_Time,1,2)) as `AM Hours`, count(1) as count\n",
    "from nyc_2017_Table \n",
    "where substr(Violation_Time,5,1) = 'A'\n",
    "group by 1\n",
    "order by 1\n",
    "\"\"\"\n",
    "spark.sql(query).show()"
   ]
  },
  {
   "cell_type": "markdown",
   "metadata": {},
   "source": [
    "Records with hour as .9 and 0. are erroneous. Also, we see that there are 17236 records with Hour as 12 which may actually be implying Hour 00."
   ]
  },
  {
   "cell_type": "code",
   "execution_count": 65,
   "metadata": {},
   "outputs": [
    {
     "name": "stdout",
     "output_type": "stream",
     "text": [
      "+--------+------+\n",
      "|PM Hours| count|\n",
      "+--------+------+\n",
      "|      00|   119|\n",
      "|      01|549287|\n",
      "|      02|466068|\n",
      "|      03|314468|\n",
      "|      04|295983|\n",
      "|      05|211173|\n",
      "|      06|104284|\n",
      "|      07| 26100|\n",
      "|      08| 49221|\n",
      "|      09| 55322|\n",
      "|      10| 42540|\n",
      "|      11| 29277|\n",
      "|      12|510016|\n",
      "|      13|     2|\n",
      "|      15|     3|\n",
      "|      16|     3|\n",
      "|      17|     1|\n",
      "|      18|     1|\n",
      "|      21|     1|\n",
      "|      22|     2|\n",
      "+--------+------+\n",
      "only showing top 20 rows\n",
      "\n"
     ]
    }
   ],
   "source": [
    "query=\"\"\"\n",
    "select distinct(substr(Violation_Time,1,2)) as `PM Hours`, count(1) as count\n",
    "from nyc_2017_Table \n",
    "where substr(Violation_Time,5,1) = 'P'\n",
    "group by 1\n",
    "order by 1\n",
    "\"\"\"\n",
    "spark.sql(query).show()"
   ]
  },
  {
   "cell_type": "markdown",
   "metadata": {},
   "source": [
    "We see that the PM hours have been represented bith in 12-HOur format and 24-Hour format. We need to bring all the Hours in a single 24-hour format"
   ]
  },
  {
   "cell_type": "code",
   "execution_count": 66,
   "metadata": {},
   "outputs": [
    {
     "name": "stdout",
     "output_type": "stream",
     "text": [
      "+-------+------+\n",
      "|Minutes| count|\n",
      "+-------+------+\n",
      "|     +0|     1|\n",
      "|     +1|     2|\n",
      "|     +2|     1|\n",
      "|     +7|     1|\n",
      "|     .0|     1|\n",
      "|     .3|     1|\n",
      "|     .5|     3|\n",
      "|     .8|     1|\n",
      "|     0+|     1|\n",
      "|     0.|     1|\n",
      "|     00| 95551|\n",
      "|     01| 81723|\n",
      "|     02| 81004|\n",
      "|     03| 81299|\n",
      "|     04| 80296|\n",
      "|     05| 89395|\n",
      "|     06|109710|\n",
      "|     07|100790|\n",
      "|     08|100697|\n",
      "|     09| 99161|\n",
      "|     1*|     1|\n",
      "|     1/|     1|\n",
      "|     10|109050|\n",
      "|     11| 97176|\n",
      "|     12| 97623|\n",
      "|     13| 95119|\n",
      "|     14| 93988|\n",
      "|     15|104051|\n",
      "|     16| 93066|\n",
      "|     17| 92277|\n",
      "|     18| 91380|\n",
      "|     19| 89626|\n",
      "|     20| 99510|\n",
      "|     21| 87979|\n",
      "|     22| 87605|\n",
      "|     23| 86815|\n",
      "|     24| 85382|\n",
      "|     25| 92402|\n",
      "|     26| 83086|\n",
      "|     27| 82720|\n",
      "|     28| 82879|\n",
      "|     29| 80110|\n",
      "|     3+|     2|\n",
      "|     3.|     1|\n",
      "|     3/|     2|\n",
      "|     30| 93879|\n",
      "|     31| 80296|\n",
      "|     32| 79956|\n",
      "|     33| 79776|\n",
      "|     34| 79384|\n",
      "|     35| 87324|\n",
      "|     36|104782|\n",
      "|     37| 95431|\n",
      "|     38| 97230|\n",
      "|     39| 95844|\n",
      "|     4/|     2|\n",
      "|     40|106677|\n",
      "|     41| 94476|\n",
      "|     42| 94382|\n",
      "|     43| 93328|\n",
      "|     44| 91668|\n",
      "|     45|101702|\n",
      "|     46| 90419|\n",
      "|     47| 90030|\n",
      "|     48| 89332|\n",
      "|     49| 87219|\n",
      "|     5+|     3|\n",
      "|     5.|     1|\n",
      "|     5/|     1|\n",
      "|     50| 99167|\n",
      "|     51| 86081|\n",
      "|     52| 86424|\n",
      "|     53| 84185|\n",
      "|     54| 83204|\n",
      "|     55| 89570|\n",
      "|     56| 81167|\n",
      "|     57| 80730|\n",
      "|     58| 79873|\n",
      "|     59| 76869|\n",
      "|      n|    16|\n",
      "+-------+------+\n",
      "\n"
     ]
    }
   ],
   "source": [
    "query=\"\"\"\n",
    "select distinct(substr(Violation_Time,3,2)) as Minutes , count(1) as count\n",
    "from nyc_2017_Table \n",
    "group by 1\n",
    "order by 1\n",
    "\"\"\"\n",
    "spark.sql(query).show(100)"
   ]
  },
  {
   "cell_type": "markdown",
   "metadata": {},
   "source": [
    "We see few records with speacial characters in the Minutes part of the string. These will be considerd as erroneous and discarded."
   ]
  },
  {
   "cell_type": "markdown",
   "metadata": {},
   "source": [
    "Considering the above results, the following inferences and assumptions are made with respect to the Violation_Time field:\n",
    "    1. A last character of the string is used to identify AM or PM. Hence, it is assumed that the time entered in the first 4 characters follows a 12-Hour time format (Source: https://en.wikipedia.org/wiki/12-hour_clock) .\n",
    "       For ex.: Morning 10 hours and 15 minutes will be represented as 1015A\n",
    "                Evening 5 Hours and 30 minutes will be represented as 0530P and so on.\n",
    "    2. As such, the first two characters can have digits between 00 and 11. \n",
    "       The next two characters can have values between 00 and 59.\n",
    "       The last character can have values either A or P.\n",
    "    3. Notice that there are reocrds with Hour as 12 for AM. \n",
    "       These will be assumed to be same as 00 AM as transformed accordingly ( replacing 12 by 00).\n",
    "    4. Notice that some of the PM hours have been represented in 24-Hour Format (13-23). \n",
    "       To bring uniformity, all the PM hours will be converted to 24-Hour format by transforming accordingly \n",
    "       (If hour < 12, then add 12).\n",
    "    5. Any data which violates the above condition would be considered as erroneous and filtered out (left-out) from further analyses."
   ]
  },
  {
   "cell_type": "markdown",
   "metadata": {},
   "source": [
    "#### Filter out erroneous records and save back to dataframe"
   ]
  },
  {
   "cell_type": "code",
   "execution_count": 67,
   "metadata": {},
   "outputs": [],
   "source": [
    "am_hours= tuple([format(x,'02d') for x in range(0,13)])\n",
    "pm_hours= tuple([format(x,'02d') for x in range(0,24)])\n",
    "min_string = tuple([format(x,'02d') for x in range(0,60)])\n",
    "query=\"\"\"\n",
    "select *\n",
    "from nyc_2017_Table \n",
    "where ( substr(Violation_Time,5,1) = 'A' and substr(Violation_Time,1,2) in {} or\n",
    "        substr(Violation_Time,5,1) = 'P' and substr(Violation_Time,1,2) in {})\n",
    "and substr(Violation_Time,5,1) in ('A','P')\n",
    "and substr(Violation_Time,3,2) in {}\n",
    "\"\"\".format(am_hours,pm_hours,min_string)\n",
    "nyc_2017 = spark.sql(query)"
   ]
  },
  {
   "cell_type": "markdown",
   "metadata": {},
   "source": [
    "#### Check if the erroneous records have been filtered out "
   ]
  },
  {
   "cell_type": "code",
   "execution_count": 68,
   "metadata": {},
   "outputs": [
    {
     "data": {
      "text/plain": [
       "pyspark.sql.dataframe.DataFrame"
      ]
     },
     "execution_count": 68,
     "metadata": {},
     "output_type": "execute_result"
    }
   ],
   "source": [
    "type(nyc_2017)"
   ]
  },
  {
   "cell_type": "code",
   "execution_count": 69,
   "metadata": {},
   "outputs": [
    {
     "data": {
      "text/plain": [
       "5431823"
      ]
     },
     "execution_count": 69,
     "metadata": {},
     "output_type": "execute_result"
    }
   ],
   "source": [
    "nyc_2017.count()"
   ]
  },
  {
   "cell_type": "markdown",
   "metadata": {},
   "source": [
    "#### 95 erroneous records have been removed."
   ]
  },
  {
   "cell_type": "code",
   "execution_count": 70,
   "metadata": {},
   "outputs": [],
   "source": [
    "nyc_2017.createOrReplaceTempView(\"nyc_2017_Table\")"
   ]
  },
  {
   "cell_type": "code",
   "execution_count": 71,
   "metadata": {},
   "outputs": [
    {
     "name": "stdout",
     "output_type": "stream",
     "text": [
      "+-------------------------------+\n",
      "|substring(Violation_Time, 5, 1)|\n",
      "+-------------------------------+\n",
      "|                              A|\n",
      "|                              P|\n",
      "+-------------------------------+\n",
      "\n"
     ]
    }
   ],
   "source": [
    "query=\"\"\"\n",
    "select distinct(substr(Violation_Time,5,1)) \n",
    "from nyc_2017_Table \n",
    "\"\"\"\n",
    "spark.sql(query).show()"
   ]
  },
  {
   "cell_type": "code",
   "execution_count": 72,
   "metadata": {},
   "outputs": [
    {
     "name": "stdout",
     "output_type": "stream",
     "text": [
      "+--------+------+\n",
      "|AM Hours| count|\n",
      "+--------+------+\n",
      "|      00| 28463|\n",
      "|      01| 46068|\n",
      "|      02| 40312|\n",
      "|      03| 32453|\n",
      "|      04| 14545|\n",
      "|      05| 43154|\n",
      "|      06|121550|\n",
      "|      07|270626|\n",
      "|      08|503843|\n",
      "|      09|595625|\n",
      "|      10|489456|\n",
      "|      11|574630|\n",
      "|      12| 17235|\n",
      "+--------+------+\n",
      "\n"
     ]
    }
   ],
   "source": [
    "query=\"\"\"\n",
    "select distinct (substr(Violation_Time,1,2)) as `AM Hours`, count(1) as count\n",
    "from nyc_2017_Table \n",
    "where substr(Violation_Time,5,1) = 'A'\n",
    "group by 1\n",
    "order by 1\n",
    "\"\"\".format(am_hours)\n",
    "spark.sql(query).show()"
   ]
  },
  {
   "cell_type": "code",
   "execution_count": 73,
   "metadata": {},
   "outputs": [
    {
     "name": "stdout",
     "output_type": "stream",
     "text": [
      "+--------+------+\n",
      "|PM Hours| count|\n",
      "+--------+------+\n",
      "|      00|   119|\n",
      "|      01|549287|\n",
      "|      02|466068|\n",
      "|      03|314468|\n",
      "|      04|295983|\n",
      "|      05|211173|\n",
      "|      06|104283|\n",
      "|      07| 26099|\n",
      "|      08| 49221|\n",
      "|      09| 55321|\n",
      "|      10| 42536|\n",
      "|      11| 29277|\n",
      "|      12|510015|\n",
      "|      13|     2|\n",
      "|      15|     3|\n",
      "|      16|     3|\n",
      "|      17|     1|\n",
      "|      18|     1|\n",
      "|      21|     1|\n",
      "|      22|     2|\n",
      "+--------+------+\n",
      "\n"
     ]
    }
   ],
   "source": [
    "query=\"\"\"\n",
    "select distinct(substr(Violation_Time,1,2)) as `PM Hours`, count(1) as count\n",
    "from nyc_2017_Table \n",
    "where substr(Violation_Time,5,1) = 'P'\n",
    "group by 1\n",
    "order by 1\n",
    "\"\"\"\n",
    "spark.sql(query).show()"
   ]
  },
  {
   "cell_type": "code",
   "execution_count": 74,
   "metadata": {},
   "outputs": [
    {
     "name": "stdout",
     "output_type": "stream",
     "text": [
      "+-------+------+\n",
      "|Minutes| count|\n",
      "+-------+------+\n",
      "|     00| 95551|\n",
      "|     01| 81723|\n",
      "|     02| 81002|\n",
      "|     03| 81298|\n",
      "|     04| 80296|\n",
      "|     05| 89393|\n",
      "|     06|109709|\n",
      "|     07|100790|\n",
      "|     08|100696|\n",
      "|     09| 99161|\n",
      "|     10|109050|\n",
      "|     11| 97174|\n",
      "|     12| 97623|\n",
      "|     13| 95119|\n",
      "|     14| 93988|\n",
      "|     15|104047|\n",
      "|     16| 93064|\n",
      "|     17| 92277|\n",
      "|     18| 91380|\n",
      "|     19| 89626|\n",
      "|     20| 99508|\n",
      "|     21| 87979|\n",
      "|     22| 87602|\n",
      "|     23| 86814|\n",
      "|     24| 85380|\n",
      "|     25| 92400|\n",
      "|     26| 83086|\n",
      "|     27| 82720|\n",
      "|     28| 82878|\n",
      "|     29| 80110|\n",
      "|     30| 93878|\n",
      "|     31| 80296|\n",
      "|     32| 79955|\n",
      "|     33| 79775|\n",
      "|     34| 79384|\n",
      "|     35| 87323|\n",
      "|     36|104781|\n",
      "|     37| 95430|\n",
      "|     38| 97229|\n",
      "|     39| 95843|\n",
      "|     40|106674|\n",
      "|     41| 94475|\n",
      "|     42| 94381|\n",
      "|     43| 93327|\n",
      "|     44| 91668|\n",
      "|     45|101702|\n",
      "|     46| 90418|\n",
      "|     47| 90029|\n",
      "|     48| 89331|\n",
      "|     49| 87219|\n",
      "|     50| 99165|\n",
      "|     51| 86080|\n",
      "|     52| 86424|\n",
      "|     53| 84185|\n",
      "|     54| 83204|\n",
      "|     55| 89569|\n",
      "|     56| 81167|\n",
      "|     57| 80728|\n",
      "|     58| 79872|\n",
      "|     59| 76867|\n",
      "+-------+------+\n",
      "\n"
     ]
    }
   ],
   "source": [
    "query=\"\"\"\n",
    "select distinct(substr(Violation_Time,3,2)) as Minutes , count(1) as count\n",
    "from nyc_2017_Table \n",
    "group by 1\n",
    "order by 1\n",
    "\"\"\"\n",
    "spark.sql(query).show(100)"
   ]
  },
  {
   "cell_type": "markdown",
   "metadata": {},
   "source": [
    "#### Replace 12XX with 00XX if the last character is 'A'\n",
    "#### Convert 12-hour to 24-Hour format by adding 12 to Hour if the last character is 'P' and hour is less than 12."
   ]
  },
  {
   "cell_type": "code",
   "execution_count": 75,
   "metadata": {},
   "outputs": [],
   "source": [
    "query=\"\"\"\n",
    "select * ,\n",
    "CASE WHEN (substr(Violation_Time,5,1) = 'A' AND \n",
    "           cast(substr(Violation_Time,1,2) as int) = 12) THEN '00'\n",
    "     WHEN (substr(Violation_Time,5,1) = 'P' AND\n",
    "           cast(substr(Violation_Time,1,2) as int) < 12 ) THEN cast(substr(Violation_Time,1,2) as int) + 12 \n",
    "     ELSE ( substr(Violation_Time,1,2) ) \n",
    "END as Violation_Hour\n",
    "from nyc_2017_Table\n",
    "\"\"\"\n",
    "nyc_2017 = spark.sql(query)"
   ]
  },
  {
   "cell_type": "code",
   "execution_count": 76,
   "metadata": {},
   "outputs": [
    {
     "name": "stdout",
     "output_type": "stream",
     "text": [
      "+--------------+--------+------------------+-------------------+--------------+-----------------+------------+------------------+---------------+--------------+--------------+\n",
      "|Summons_Number|Plate_ID|Registration_State|         Issue_Date|Violation_Code|Vehicle_Body_Type|Vehicle_Make|Violation_Precinct|Issuer_Precinct|Violation_Time|Violation_Hour|\n",
      "+--------------+--------+------------------+-------------------+--------------+-----------------+------------+------------------+---------------+--------------+--------------+\n",
      "|    8478629828| 66623ME|                NY|2017-06-14 00:00:00|            47|             REFG|       MITSU|                14|             14|         1120A|            11|\n",
      "|    5096917368| FZD8593|                NY|2017-06-13 00:00:00|             7|             SUBN|       ME/BE|                 0|              0|         0852P|            20|\n",
      "|    1407740258| 2513JMG|                NY|2017-01-11 00:00:00|            78|             DELV|       FRUEH|               106|            106|         0015A|            00|\n",
      "|    1413656420|T672371C|                NY|2017-02-04 00:00:00|            40|             TAXI|       TOYOT|                73|             73|         0525A|            05|\n",
      "|    8480309064| 51771JW|                NY|2017-01-26 00:00:00|            64|              VAN|       INTER|                17|             17|         0256P|            14|\n",
      "|    1416638830|  GLP367|                NY|2017-04-30 00:00:00|            20|             SUBN|       DODGE|                17|             17|         1232A|            00|\n",
      "|    4630524241|  HJBP29|                FL|2017-02-03 00:00:00|            36|               4D|         BMW|                 0|              0|         1034A|            10|\n",
      "|    8505131836| 87155MA|                NY|2017-05-27 00:00:00|            38|              VAN|       CHEVR|                 1|              1|         1021A|            10|\n",
      "|    8513520615| 77026MG|                NY|2017-05-31 00:00:00|            14|             TRAC|       VOLVO|                24|             24|         0721A|            07|\n",
      "|    8556155431| HFB9919|                NY|2017-05-26 00:00:00|            75|             4DSD|       DODGE|               114|            114|         0940A|            09|\n",
      "|    8483087236| 76822MH|                NY|2017-05-19 00:00:00|            10|             DELV|         HIN|                14|             14|         1223P|            12|\n",
      "|    8513914599| 65572JU|                NY|2017-06-09 00:00:00|            69|              VAN|        FORD|                19|             19|         1028A|            10|\n",
      "|    8357020770|  Y56DLT|                NJ|2017-01-20 00:00:00|            21|             4DSD|       CHEVR|               113|            113|         0148A|            01|\n",
      "|    7047487591| 50741JZ|                NY|2017-04-13 00:00:00|            38|             UTIL|         GMC|               115|            115|         1206P|            12|\n",
      "|    8122530205| 95139JC|                NY|2017-01-05 00:00:00|            48|             DELV|       INTER|                13|             13|         0141P|            13|\n",
      "|    1419707358|  V97GVE|                NJ|2017-02-18 00:00:00|            21|             SUBN|       ME/BE|                60|              0|         0822A|            08|\n",
      "|    8544889610| VVP9002|                VA|2017-06-14 00:00:00|            21|             4DSD|        AUDI|                72|             72|         0820A|            08|\n",
      "|    8162054819|  EW866X|                NJ|2017-01-29 00:00:00|            68|             4DSD|       NISSA|                84|             84|         1043A|            10|\n",
      "|    8506053195| 25868MB|                NY|2017-01-25 00:00:00|            51|              VAN|        FORD|                 1|              1|         0204P|            14|\n",
      "|    8534116519| CES6482|                NY|2017-06-12 00:00:00|             9|             SUBN|       TOYOT|                81|             81|         0853A|            08|\n",
      "+--------------+--------+------------------+-------------------+--------------+-----------------+------------+------------------+---------------+--------------+--------------+\n",
      "only showing top 20 rows\n",
      "\n"
     ]
    }
   ],
   "source": [
    "nyc_2017.show(20)"
   ]
  },
  {
   "cell_type": "code",
   "execution_count": 77,
   "metadata": {},
   "outputs": [],
   "source": [
    "nyc_2017.createOrReplaceTempView(\"nyc_2017_Table\")"
   ]
  },
  {
   "cell_type": "code",
   "execution_count": 78,
   "metadata": {},
   "outputs": [
    {
     "name": "stdout",
     "output_type": "stream",
     "text": [
      "+--------------+\n",
      "|Violation_Hour|\n",
      "+--------------+\n",
      "|            00|\n",
      "|            01|\n",
      "|            02|\n",
      "|            03|\n",
      "|            04|\n",
      "|            05|\n",
      "|            06|\n",
      "|            07|\n",
      "|            08|\n",
      "|            09|\n",
      "|            10|\n",
      "|            11|\n",
      "|            12|\n",
      "|            13|\n",
      "|            14|\n",
      "|            15|\n",
      "|            16|\n",
      "|            17|\n",
      "|            18|\n",
      "|            19|\n",
      "|            20|\n",
      "|            21|\n",
      "|            22|\n",
      "|            23|\n",
      "+--------------+\n",
      "\n"
     ]
    }
   ],
   "source": [
    "query=\"\"\"\n",
    "select distinct Violation_Hour from nyc_2017_Table\n",
    "order by 1\n",
    "\"\"\"\n",
    "spark.sql(query).show(30)"
   ]
  },
  {
   "cell_type": "code",
   "execution_count": 79,
   "metadata": {},
   "outputs": [
    {
     "name": "stdout",
     "output_type": "stream",
     "text": [
      "+--------------+------+\n",
      "|Violation_Hour| count|\n",
      "+--------------+------+\n",
      "|            00| 45698|\n",
      "|            01| 46068|\n",
      "|            02| 40312|\n",
      "|            03| 32453|\n",
      "|            04| 14545|\n",
      "|            05| 43154|\n",
      "|            06|121550|\n",
      "|            07|270626|\n",
      "|            08|503843|\n",
      "|            09|595625|\n",
      "|            10|489456|\n",
      "|            11|574630|\n",
      "|            12|510134|\n",
      "|            13|549289|\n",
      "|            14|466068|\n",
      "|            15|314471|\n",
      "|            16|295986|\n",
      "|            17|211174|\n",
      "|            18|104284|\n",
      "|            19| 26099|\n",
      "|            20| 49221|\n",
      "|            21| 55322|\n",
      "|            22| 42538|\n",
      "|            23| 29277|\n",
      "+--------------+------+\n",
      "\n"
     ]
    }
   ],
   "source": [
    "nyc_2017.groupby(nyc_2017['Violation_Hour']).count().sort(F.asc('Violation_Hour')).show(24)"
   ]
  },
  {
   "cell_type": "code",
   "execution_count": 80,
   "metadata": {},
   "outputs": [
    {
     "name": "stdout",
     "output_type": "stream",
     "text": [
      "+--------------+------+\n",
      "|Violation_Hour| count|\n",
      "+--------------+------+\n",
      "|            00| 45698|\n",
      "|            01| 46068|\n",
      "|            02| 40312|\n",
      "|            03| 32453|\n",
      "|            04| 14545|\n",
      "|            05| 43154|\n",
      "|            06|121550|\n",
      "|            07|270626|\n",
      "|            08|503843|\n",
      "|            09|595625|\n",
      "|            10|489456|\n",
      "|            11|574630|\n",
      "|            12|510134|\n",
      "|            13|549289|\n",
      "|            14|466068|\n",
      "|            15|314471|\n",
      "|            16|295986|\n",
      "|            17|211174|\n",
      "|            18|104284|\n",
      "|            19| 26099|\n",
      "|            20| 49221|\n",
      "|            21| 55322|\n",
      "|            22| 42538|\n",
      "|            23| 29277|\n",
      "+--------------+------+\n",
      "\n"
     ]
    }
   ],
   "source": [
    "spark.sql(\"select Violation_Hour , count(1) as count from nyc_2017_Table group by 1 order by 1 asc \").show(24)"
   ]
  },
  {
   "cell_type": "code",
   "execution_count": 81,
   "metadata": {},
   "outputs": [
    {
     "data": {
      "text/plain": [
       "<Figure size 432x288 with 0 Axes>"
      ]
     },
     "metadata": {},
     "output_type": "display_data"
    },
    {
     "data": {
      "image/png": "[encoded data removed]",
      "text/plain": [
       "<Figure size 648x360 with 1 Axes>"
      ]
     },
     "metadata": {},
     "output_type": "display_data"
    }
   ],
   "source": [
    "plt.figure()\n",
    "\n",
    "ax4=nyc_2017.groupby(nyc_2017['Violation_Hour']).count().sort(F.asc('Violation_Hour'))\\\n",
    ".toPandas()\\\n",
    ".plot(x='Violation_Hour',y='count',kind='bar',rot=0,legend=False,figsize=(9,5))\n",
    "\n",
    "plt.ylabel(\"Count\")\n",
    "plt.show()"
   ]
  },
  {
   "cell_type": "markdown",
   "metadata": {},
   "source": [
    "- Notice the number of parking tickets gradually increase from 5AM and peaks around 9AM probably due to people coming for work.\n",
    "- Further, notice a small peak at 11AM again more people coming for work and another at 1PM probably moving around for lunch.\n",
    "- Post 1PM, the number of parking tickets gradually start dropping.\n",
    "- Around 7PM, the number of tickets drop drasically probably as many people have already left and a lot of valid parking spaces are available at that time.\n",
    "- Given the pattern of parking tickets, we can bin then into 6 groups each consisting of 4 hours as follows:\n",
    "    - 00AM_to_03AM\n",
    "    - 04AM_to_07AM\n",
    "    - 08AM_to_11AM\n",
    "    - 12PM_to_15PM\n",
    "    - 16PM_to_19PM\n",
    "    - 20PM_to_23PM"
   ]
  },
  {
   "cell_type": "code",
   "execution_count": 82,
   "metadata": {},
   "outputs": [],
   "source": [
    "query = \"\"\"\n",
    "SELECT *,\n",
    "CASE WHEN cast(Violation_Hour as int) BETWEEN 0  AND 3  THEN '00_03'\n",
    "     WHEN cast(Violation_Hour as int) BETWEEN 4  AND 7  THEN '04_07'\n",
    "     WHEN cast(Violation_Hour as int) BETWEEN 8  AND 11 THEN '08_11'\n",
    "     WHEN cast(Violation_Hour as int) BETWEEN 12 AND 15 THEN '12_15'\n",
    "     WHEN cast(Violation_Hour as int) BETWEEN 16 AND 19 THEN '16_19'\n",
    "     WHEN cast(Violation_Hour as int) BETWEEN 20 AND 23 THEN '20_23'     \n",
    "END AS Violation_Hour_Bin\n",
    "FROM nyc_2017_Table\n",
    "\"\"\"\n",
    "nyc_2017 = spark.sql(query)"
   ]
  },
  {
   "cell_type": "code",
   "execution_count": 83,
   "metadata": {},
   "outputs": [
    {
     "name": "stdout",
     "output_type": "stream",
     "text": [
      "+--------------+--------+------------------+-------------------+--------------+-----------------+------------+------------------+---------------+--------------+--------------+------------------+\n",
      "|Summons_Number|Plate_ID|Registration_State|         Issue_Date|Violation_Code|Vehicle_Body_Type|Vehicle_Make|Violation_Precinct|Issuer_Precinct|Violation_Time|Violation_Hour|Violation_Hour_Bin|\n",
      "+--------------+--------+------------------+-------------------+--------------+-----------------+------------+------------------+---------------+--------------+--------------+------------------+\n",
      "|    8478629828| 66623ME|                NY|2017-06-14 00:00:00|            47|             REFG|       MITSU|                14|             14|         1120A|            11|             08_11|\n",
      "|    5096917368| FZD8593|                NY|2017-06-13 00:00:00|             7|             SUBN|       ME/BE|                 0|              0|         0852P|            20|             20_23|\n",
      "|    1407740258| 2513JMG|                NY|2017-01-11 00:00:00|            78|             DELV|       FRUEH|               106|            106|         0015A|            00|             00_03|\n",
      "|    1413656420|T672371C|                NY|2017-02-04 00:00:00|            40|             TAXI|       TOYOT|                73|             73|         0525A|            05|             04_07|\n",
      "|    8480309064| 51771JW|                NY|2017-01-26 00:00:00|            64|              VAN|       INTER|                17|             17|         0256P|            14|             12_15|\n",
      "|    1416638830|  GLP367|                NY|2017-04-30 00:00:00|            20|             SUBN|       DODGE|                17|             17|         1232A|            00|             00_03|\n",
      "|    4630524241|  HJBP29|                FL|2017-02-03 00:00:00|            36|               4D|         BMW|                 0|              0|         1034A|            10|             08_11|\n",
      "|    8505131836| 87155MA|                NY|2017-05-27 00:00:00|            38|              VAN|       CHEVR|                 1|              1|         1021A|            10|             08_11|\n",
      "|    8513520615| 77026MG|                NY|2017-05-31 00:00:00|            14|             TRAC|       VOLVO|                24|             24|         0721A|            07|             04_07|\n",
      "|    8556155431| HFB9919|                NY|2017-05-26 00:00:00|            75|             4DSD|       DODGE|               114|            114|         0940A|            09|             08_11|\n",
      "+--------------+--------+------------------+-------------------+--------------+-----------------+------------+------------------+---------------+--------------+--------------+------------------+\n",
      "only showing top 10 rows\n",
      "\n"
     ]
    }
   ],
   "source": [
    "nyc_2017.show(10)"
   ]
  },
  {
   "cell_type": "code",
   "execution_count": 84,
   "metadata": {},
   "outputs": [],
   "source": [
    "nyc_2017.createOrReplaceTempView(\"nyc_2017_Table\")"
   ]
  },
  {
   "cell_type": "code",
   "execution_count": 86,
   "metadata": {},
   "outputs": [
    {
     "name": "stdout",
     "output_type": "stream",
     "text": [
      "+------------------+-------+\n",
      "|Violation_Hour_Bin|  count|\n",
      "+------------------+-------+\n",
      "|             00_03| 164531|\n",
      "|             04_07| 449875|\n",
      "|             08_11|2163554|\n",
      "|             12_15|1839962|\n",
      "|             16_19| 637543|\n",
      "|             20_23| 176358|\n",
      "+------------------+-------+\n",
      "\n"
     ]
    }
   ],
   "source": [
    "nyc_2017.groupby(nyc_2017['Violation_Hour_Bin']).count().sort(F.asc('Violation_Hour_Bin')).show(6)"
   ]
  },
  {
   "cell_type": "code",
   "execution_count": 87,
   "metadata": {},
   "outputs": [
    {
     "data": {
      "text/plain": [
       "<Figure size 432x288 with 0 Axes>"
      ]
     },
     "metadata": {},
     "output_type": "display_data"
    },
    {
     "data": {
      "image/png": "[encoded data removed]",
      "text/plain": [
       "<Figure size 648x360 with 1 Axes>"
      ]
     },
     "metadata": {},
     "output_type": "display_data"
    }
   ],
   "source": [
    "plt.figure()\n",
    "\n",
    "ax5=nyc_2017.groupby(nyc_2017['Violation_Hour_Bin']).count().sort(F.asc('Violation_Hour_Bin'))\\\n",
    ".toPandas()\\\n",
    ".plot(x='Violation_Hour_Bin',y='count',kind='bar',rot=0,legend=False,figsize=(9,5))\n",
    "\n",
    "for i in ax5.patches:\n",
    "    ax5.text(i.get_x()+.1, i.get_height()+2000, \\\n",
    "            str(i.get_height()))\n",
    "\n",
    "plt.ylabel(\"Count\")\n",
    "plt.show()"
   ]
  },
  {
   "cell_type": "markdown",
   "metadata": {},
   "source": [
    "As inferred earlier, the hours between 8AM to 11AM see the most number of tickets followed by 12PM to 3PM."
   ]
  },
  {
   "cell_type": "markdown",
   "metadata": {},
   "source": [
    "#### For each of these groups, find the three most commonly occurring violations."
   ]
  },
  {
   "cell_type": "code",
   "execution_count": 88,
   "metadata": {},
   "outputs": [
    {
     "name": "stdout",
     "output_type": "stream",
     "text": [
      "+------------------+--------------+--------------------+\n",
      "|Violation_Hour_Bin|Violation_Code|Frequency_of_Tickets|\n",
      "+------------------+--------------+--------------------+\n",
      "|             00_03|            21|               36957|\n",
      "|             00_03|            40|               25865|\n",
      "|             00_03|            78|               15528|\n",
      "|             04_07|            14|               74113|\n",
      "|             04_07|            40|               60652|\n",
      "|             04_07|            21|               57894|\n",
      "|             08_11|            21|              598062|\n",
      "|             08_11|            36|              348165|\n",
      "|             08_11|            38|              176570|\n",
      "|             12_15|            36|              286284|\n",
      "|             12_15|            38|              240721|\n",
      "|             12_15|            37|              167026|\n",
      "|             16_19|            38|              102855|\n",
      "|             16_19|            14|               75902|\n",
      "|             16_19|            37|               70345|\n",
      "|             20_23|             7|               26293|\n",
      "|             20_23|            40|               22337|\n",
      "|             20_23|            14|               21045|\n",
      "+------------------+--------------+--------------------+\n",
      "\n"
     ]
    }
   ],
   "source": [
    "query = \"\"\"\n",
    "SELECT Violation_Hour_Bin,\n",
    "Violation_Code,\n",
    "Frequency_of_Tickets\n",
    "FROM (SELECT Violation_Hour_Bin, Violation_Code, Frequency_of_Tickets, dense_rank() \n",
    "      over (partition by Violation_Hour_Bin order by Frequency_of_Tickets desc) Rnk\n",
    "      FROM (SELECT Violation_Hour_Bin, Violation_Code, count(*) as Frequency_of_Tickets\n",
    "            FROM nyc_2017_Table\n",
    "            GROUP BY Violation_Hour_Bin,Violation_Code\n",
    "            )\n",
    "      )\n",
    "WHERE Rnk <= 3\n",
    "ORDER BY 1 asc,3 desc\n",
    "\"\"\"\n",
    "spark.sql(query).show()"
   ]
  },
  {
   "cell_type": "markdown",
   "metadata": {},
   "source": [
    "####  For the three most commonly occurring violation codes, find the most common time of the day (in terms of the bins from the previous part)."
   ]
  },
  {
   "cell_type": "code",
   "execution_count": 89,
   "metadata": {},
   "outputs": [
    {
     "name": "stdout",
     "output_type": "stream",
     "text": [
      "+--------------+--------------------+\n",
      "|Violation_Code|Number_of_Violations|\n",
      "+--------------+--------------------+\n",
      "|            21|              768053|\n",
      "|            36|              662765|\n",
      "|            38|              542078|\n",
      "+--------------+--------------------+\n",
      "only showing top 3 rows\n",
      "\n"
     ]
    }
   ],
   "source": [
    "query=\"\"\"\n",
    "select Violation_Code, count(1) Number_of_Violations\n",
    "from nyc_2017_Table\n",
    "group by 1\n",
    "order by 2 desc\n",
    "\"\"\"\n",
    "spark.sql(query).show(3)"
   ]
  },
  {
   "cell_type": "markdown",
   "metadata": {},
   "source": [
    "The three most commonly occuring violation codes are : 21, 36 and 38."
   ]
  },
  {
   "cell_type": "code",
   "execution_count": 90,
   "metadata": {},
   "outputs": [
    {
     "name": "stdout",
     "output_type": "stream",
     "text": [
      "+------------------+-------+\n",
      "|Violation_Hour_Bin|  COUNT|\n",
      "+------------------+-------+\n",
      "|             08_11|1122797|\n",
      "|             12_15| 601700|\n",
      "|             16_19| 116650|\n",
      "|             04_07|  73949|\n",
      "|             00_03|  37269|\n",
      "|             20_23|  20531|\n",
      "+------------------+-------+\n",
      "\n"
     ]
    }
   ],
   "source": [
    "query=\"\"\"\n",
    "select Violation_Hour_Bin, count(1) COUNT\n",
    "from nyc_2017_Table\n",
    "where Violation_Code in (21,36,38)\n",
    "Group by 1\n",
    "order by 2 desc\n",
    "\"\"\"\n",
    "spark.sql(query).show(6)"
   ]
  },
  {
   "cell_type": "markdown",
   "metadata": {},
   "source": [
    "** The three most commonly occuring violations codes appear the most during 8AM and 11AM, which is also the period of the day with most number of violations through out the day probably owing to the office start hours.**"
   ]
  },
  {
   "cell_type": "markdown",
   "metadata": {},
   "source": [
    "---   "
   ]
  },
  {
   "cell_type": "markdown",
   "metadata": {},
   "source": [
    "### 6. Seasonality Analysis."
   ]
  },
  {
   "cell_type": "markdown",
   "metadata": {},
   "source": [
    "#### Divide the year into a certain number of seasons, and find the frequencies of tickets for each season\n",
    "\n",
    "Let us divide the seasons as follows ( Source : https://www.nyc.com/visitor_guide/weather_facts.75835/ )\n",
    "- Winter --> December, January, February\n",
    "- Spring --> March, April, May\n",
    "- Summer --> June, July, August\n",
    "- Fall --> September, October, November"
   ]
  },
  {
   "cell_type": "code",
   "execution_count": 91,
   "metadata": {},
   "outputs": [],
   "source": [
    "query=\"\"\"\n",
    "SELECT * ,\n",
    "CASE \n",
    "    WHEN MONTH(ISSUE_DATE) IN (12,1,2)  THEN \"Winter\"\n",
    "    WHEN MONTH(ISSUE_DATE) IN (3,4,5)   THEN \"Spring\"\n",
    "    WHEN MONTH(ISSUE_DATE) IN (6,7,8)   THEN \"Summer\"\n",
    "    WHEN MONTH(ISSUE_DATE) IN (9,10,11) THEN \"Fall\"\n",
    "END AS Season\n",
    "from nyc_2017_Table\n",
    "\"\"\"\n",
    "nyc_2017 = spark.sql(query)"
   ]
  },
  {
   "cell_type": "code",
   "execution_count": 92,
   "metadata": {},
   "outputs": [],
   "source": [
    "nyc_2017.createOrReplaceTempView(\"nyc_2017_Table\")"
   ]
  },
  {
   "cell_type": "code",
   "execution_count": 93,
   "metadata": {},
   "outputs": [
    {
     "name": "stdout",
     "output_type": "stream",
     "text": [
      "+------+--------+\n",
      "|Season|count(1)|\n",
      "+------+--------+\n",
      "|  Fall|     979|\n",
      "|Summer|  852851|\n",
      "|Winter| 1704668|\n",
      "|Spring| 2873325|\n",
      "+------+--------+\n",
      "\n"
     ]
    }
   ],
   "source": [
    "query=\"\"\"\n",
    "select Season, count(1) from nyc_2017_Table\n",
    "group by 1\n",
    "order by 2\"\"\"\n",
    "spark.sql(query).show(4)"
   ]
  },
  {
   "cell_type": "markdown",
   "metadata": {},
   "source": [
    "Inferences:\n",
    "- People do not prefer going out in their own vehicles during fall and summer season\n",
    "- NYPD guys skip patrolling during fall and summer because of bad weather conditions.\n",
    "- Favorable climate during Fall and Summer ( in terms of temperature, rain and snow) thus public transport used more, whereas in Winter and Spring there the temperatures are low with higher chances of snowfall/rains forcing people to take their own vehicles."
   ]
  },
  {
   "cell_type": "markdown",
   "metadata": {},
   "source": [
    "#### Find the three most common violations for each of these seasons."
   ]
  },
  {
   "cell_type": "code",
   "execution_count": 94,
   "metadata": {},
   "outputs": [
    {
     "name": "stdout",
     "output_type": "stream",
     "text": [
      "+------+--------------+--------------------+\n",
      "|Season|Violation_Code|Frequency_of_Tickets|\n",
      "+------+--------------+--------------------+\n",
      "|  Fall|            46|                 231|\n",
      "|  Fall|            21|                 128|\n",
      "|  Fall|            40|                 116|\n",
      "|Spring|            21|              402401|\n",
      "|Spring|            36|              344834|\n",
      "|Spring|            38|              271167|\n",
      "|Summer|            21|              127344|\n",
      "|Summer|            36|               96663|\n",
      "|Summer|            38|               83518|\n",
      "|Winter|            21|              238180|\n",
      "|Winter|            36|              221268|\n",
      "|Winter|            38|              187385|\n",
      "+------+--------------+--------------------+\n",
      "\n"
     ]
    }
   ],
   "source": [
    "query = \"\"\"\n",
    "SELECT Season,\n",
    "Violation_Code,\n",
    "Frequency_of_Tickets\n",
    "FROM (SELECT Season, Violation_Code, Frequency_of_Tickets, dense_rank() \n",
    "      over (partition by Season order by Frequency_of_Tickets desc) Rnk\n",
    "      FROM (SELECT Season, Violation_Code, count(*) as Frequency_of_Tickets\n",
    "            FROM nyc_2017_Table\n",
    "            GROUP BY Season,Violation_Code\n",
    "            )\n",
    "      )\n",
    "WHERE Rnk <= 3\n",
    "ORDER BY 1 asc,3 desc\n",
    "\"\"\"\n",
    "spark.sql(query).show()"
   ]
  },
  {
   "cell_type": "markdown",
   "metadata": {},
   "source": [
    "The violaton code 21 - Street Cleaning(No Parking) occurs among top3 in all seasons."
   ]
  },
  {
   "cell_type": "markdown",
   "metadata": {},
   "source": [
    "--- "
   ]
  },
  {
   "cell_type": "markdown",
   "metadata": {},
   "source": [
    "### 7. The fines collected from all the instances of parking violation constitute a source of revenue for the NYC Police Department. Let’s take an example of estimating this for the three most commonly occurring codes:"
   ]
  },
  {
   "cell_type": "markdown",
   "metadata": {},
   "source": [
    "#### Find the total occurrences of the three most common violation codes."
   ]
  },
  {
   "cell_type": "code",
   "execution_count": 95,
   "metadata": {},
   "outputs": [
    {
     "name": "stdout",
     "output_type": "stream",
     "text": [
      "+--------------+--------------------+\n",
      "|Violation_Code|Frequency_of_Tickets|\n",
      "+--------------+--------------------+\n",
      "|            21|              768053|\n",
      "|            36|              662765|\n",
      "|            38|              542078|\n",
      "+--------------+--------------------+\n",
      "only showing top 3 rows\n",
      "\n"
     ]
    }
   ],
   "source": [
    "query = \"\"\"\n",
    "SELECT Violation_Code, count(1) as Frequency_of_Tickets\n",
    "from nyc_2017_Table\n",
    "group by Violation_Code\n",
    "order by Frequency_of_Tickets desc\n",
    "\"\"\"\n",
    "spark.sql(query).show(3)"
   ]
  },
  {
   "cell_type": "markdown",
   "metadata": {},
   "source": [
    "**The 3 most common Violation Codes along with their frquencies are as follows:**\n",
    "\n",
    "- Code 21 - Street Cleaning -- No parking where parking is not allowed by sign, street marking or traffic control device : 768087 \n",
    "- Code 36 - Exceeding the posted speed limit in or near a designated school zone : 662765 \n",
    "- Code 38 - Parking Meter -- Failing to show a receipt or tag in the windshield : 542079 "
   ]
  },
  {
   "cell_type": "markdown",
   "metadata": {},
   "source": [
    "#### Average fine for Violation_Codes : 21, 36 and 38\n",
    "Source : https://www1.nyc.gov/site/finance/vehicles/services-violation-codes.page "
   ]
  },
  {
   "cell_type": "markdown",
   "metadata": {},
   "source": [
    "- Code 21: Average: (65+45)/2 = 55 \n",
    "- Code 36: Average: (50+50)/2 = 50 \n",
    "- Code 38: Average: (65+35)/2 = 50 "
   ]
  },
  {
   "cell_type": "code",
   "execution_count": 96,
   "metadata": {},
   "outputs": [
    {
     "name": "stdout",
     "output_type": "stream",
     "text": [
      "+--------------+-----------------+\n",
      "|Violation_Code|Revenue_Collected|\n",
      "+--------------+-----------------+\n",
      "|            21|         42242915|\n",
      "|            36|         33138250|\n",
      "|            38|         27103900|\n",
      "+--------------+-----------------+\n",
      "\n"
     ]
    }
   ],
   "source": [
    "query = \"\"\"\n",
    "SELECT Violation_Code, \n",
    "CASE \n",
    "    WHEN Violation_Code = 21 THEN count(1)*55\n",
    "    WHEN Violation_Code = 36 THEN count(1)*50\n",
    "    WHEN Violation_Code = 38 THEN count(1)*50\n",
    "END as Revenue_Collected\n",
    "from nyc_2017_Table\n",
    "where Violation_Code in (21,36,38)\n",
    "group by Violation_Code\n",
    "order by Revenue_Collected desc\n",
    "\"\"\"\n",
    "spark.sql(query).show(3)"
   ]
  },
  {
   "cell_type": "markdown",
   "metadata": {},
   "source": [
    "** Violation No Parking : Code 21 ** has the highest collection of about **$42.25 Million(aprrox)**  !!! \n",
    "\n",
    "** Top 3 violations generate a revenue of more than $ 100 Million ! ! !**"
   ]
  },
  {
   "cell_type": "markdown",
   "metadata": {},
   "source": [
    "#### Inferences: \n",
    "- A lot of revenue is generated dur to no parking violation which could be due to \n",
    "        - negligence in sighting the no-parking boards\n",
    "        - getting delayed to work\n",
    "        - ignorance of consequences of parking in no-parking areas\n",
    "        - some genuine emergencies\n",
    "- There seems to be a scarcity of parking spaces as compared to the number of vehicles that come into the city for work/leisure\n",
    "- Overspeeding again indicates at negligence and apathy towards traffic laws\n",
    "- Failing to display receipt/tag in windshield again indicates at negligence towards taking and/or displaying the tag/receipt.\n",
    "- NYPD generating a lot of revenue due to non-adherance to traffic rules by citizens."
   ]
  },
  {
   "cell_type": "code",
   "execution_count": 97,
   "metadata": {},
   "outputs": [],
   "source": [
    "spark.stop()"
   ]
  },
  {
   "cell_type": "markdown",
   "metadata": {},
   "source": [
    "## THE END\n",
    "--- "
   ]
  }
 ],
 "metadata": {
  "kernelspec": {
   "display_name": "Python 3",
   "language": "python",
   "name": "python3"
  },
  "language_info": {
   "codemirror_mode": {
    "name": "ipython",
    "version": 3
   },
   "file_extension": ".py",
   "mimetype": "text/x-python",
   "name": "python",
   "nbconvert_exporter": "python",
   "pygments_lexer": "ipython3",
   "version": "3.7.3"
  }
 },
 "nbformat": 4,
 "nbformat_minor": 2
}
