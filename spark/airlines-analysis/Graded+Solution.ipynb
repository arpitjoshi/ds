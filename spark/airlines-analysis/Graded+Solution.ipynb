{
 "cells": [
  {
   "cell_type": "code",
   "execution_count": 4,
   "metadata": {},
   "outputs": [],
   "source": [
    "from pyspark.sql import SparkSession\n",
    "spark = SparkSession.builder.appName(\"graded\").getOrCreate()"
   ]
  },
  {
   "cell_type": "code",
   "execution_count": 5,
   "metadata": {},
   "outputs": [],
   "source": [
    "df = spark.read.json(\"/user/claastraineryubdc_corestack/data/amazon_reviews_graded/reviews_Home_and_Kitchen_5.json\")"
   ]
  },
  {
   "cell_type": "code",
   "execution_count": 6,
   "metadata": {},
   "outputs": [
    {
     "name": "stdout",
     "output_type": "stream",
     "text": [
      "+----------+--------+-------+--------------------+-----------+--------------+--------------------+--------------------+--------------+\n",
      "|      asin| helpful|overall|          reviewText| reviewTime|    reviewerID|        reviewerName|             summary|unixReviewTime|\n",
      "+----------+--------+-------+--------------------+-----------+--------------+--------------------+--------------------+--------------+\n",
      "|0615391206|  [0, 0]|    5.0|My daughter wante...|10 19, 2013| APYOBQE6M18AA|     Martin Schwartz|          Best Price|    1382140800|\n",
      "|0615391206|  [0, 0]|    5.0|I bought this zok...|06 18, 2014|A1JVQTAGHYOL7F|       Michelle Dinh|                zoku|    1403049600|\n",
      "|0615391206|[26, 27]|    4.0|There is no short...| 05 5, 2013|A3UPYGJKZ0XTU4|        mirasreviews|Excels at Sweet D...|    1367712000|\n",
      "|0615391206|[14, 18]|    5.0|This book is a mu...| 08 4, 2011|A2MHCTX43MIMDZ|M. Johnson \"Tea L...|     Creative Combos|    1312416000|\n",
      "|0615391206|  [0, 0]|    4.0|This cookbook is ...| 06 7, 2014| AHAI85T5C2DH3|            PugLover|A must own if you...|    1402099200|\n",
      "+----------+--------+-------+--------------------+-----------+--------------+--------------------+--------------------+--------------+\n",
      "only showing top 5 rows\n",
      "\n"
     ]
    }
   ],
   "source": [
    "df.show(5)"
   ]
  },
  {
   "cell_type": "code",
   "execution_count": 7,
   "metadata": {},
   "outputs": [],
   "source": [
    "df.createOrReplaceTempView(\"review\")"
   ]
  },
  {
   "cell_type": "code",
   "execution_count": 10,
   "metadata": {},
   "outputs": [
    {
     "name": "stdout",
     "output_type": "stream",
     "text": [
      "+--------------------+\n",
      "|count(DISTINCT asin)|\n",
      "+--------------------+\n",
      "|               28237|\n",
      "+--------------------+\n",
      "\n"
     ]
    }
   ],
   "source": [
    "spark.sql(\"select count(DISTINCT asin) from review\").show()"
   ]
  },
  {
   "cell_type": "code",
   "execution_count": 11,
   "metadata": {},
   "outputs": [
    {
     "name": "stdout",
     "output_type": "stream",
     "text": [
      "+--------------------------+\n",
      "|count(DISTINCT reviewerID)|\n",
      "+--------------------------+\n",
      "|                     66519|\n",
      "+--------------------------+\n",
      "\n"
     ]
    }
   ],
   "source": [
    "spark.sql(\"select count(DISTINCT reviewerID) from review\").show()"
   ]
  },
  {
   "cell_type": "code",
   "execution_count": 13,
   "metadata": {},
   "outputs": [],
   "source": [
    "review_length= spark.sql('SELECT helpful, overall, reviewText, reviewTime, summary, asin, LENGTH(reviewText) AS reviewLength FROM review')"
   ]
  },
  {
   "cell_type": "code",
   "execution_count": 14,
   "metadata": {},
   "outputs": [],
   "source": [
    "review_length.createOrReplaceTempView(\"review_length\")"
   ]
  },
  {
   "cell_type": "code",
   "execution_count": 17,
   "metadata": {},
   "outputs": [
    {
     "name": "stdout",
     "output_type": "stream",
     "text": [
      "+-----------------+\n",
      "|max(reviewLength)|\n",
      "+-----------------+\n",
      "|            30808|\n",
      "+-----------------+\n",
      "\n"
     ]
    }
   ],
   "source": [
    "spark.sql('select max(reviewLength) from review_length').show()"
   ]
  },
  {
   "cell_type": "code",
   "execution_count": 18,
   "metadata": {},
   "outputs": [
    {
     "name": "stdout",
     "output_type": "stream",
     "text": [
      "+--------+-------+--------------------+-----------+--------------------+----------+------------+\n",
      "| helpful|overall|          reviewText| reviewTime|             summary|      asin|reviewLength|\n",
      "+--------+-------+--------------------+-----------+--------------------+----------+------------+\n",
      "|  [0, 0]|    5.0|My daughter wante...|10 19, 2013|          Best Price|0615391206|         158|\n",
      "|  [0, 0]|    5.0|I bought this zok...|06 18, 2014|                zoku|0615391206|         125|\n",
      "|[26, 27]|    4.0|There is no short...| 05 5, 2013|Excels at Sweet D...|0615391206|        2353|\n",
      "|[14, 18]|    5.0|This book is a mu...| 08 4, 2011|     Creative Combos|0615391206|         334|\n",
      "|  [0, 0]|    4.0|This cookbook is ...| 06 7, 2014|A must own if you...|0615391206|         538|\n",
      "|  [0, 0]|    5.0|If you have a Zok...| 06 7, 2014|             Love it|0615391206|         196|\n",
      "|  [2, 3]|    5.0|This book is so b...| 07 2, 2012|Beautifully illus...|0615391206|         476|\n",
      "|[32, 39]|    2.0|I bought this whe...| 12 8, 2011|Okay but you can ...|0615391206|         413|\n",
      "|[13, 13]|    5.0|The Zoku accessor...|09 22, 2011|If you have the Z...|0615391206|         163|\n",
      "|  [0, 0]|    5.0|High quality book...| 06 1, 2014|Satisfaction opinion|0615391206|         144|\n",
      "|  [3, 3]|    4.0|The recipes in th...|12 26, 2012|I liked this book...|0615391206|         175|\n",
      "|  [0, 0]|    5.0|This beautifully ...|07 27, 2009|A sweet book for ...|0689027818|         342|\n",
      "|  [0, 0]|    5.0|I got this as a g...| 06 7, 2012|Super cute niece ...|0689027818|         138|\n",
      "|  [1, 2]|    5.0|This is the story...| 04 6, 2013|My little one abs...|0689027818|         557|\n",
      "|[16, 16]|    5.0|This book is abso...|02 21, 2003|My Daughter's New...|0689027818|         829|\n",
      "|  [1, 1]|    5.0|My daughter 1 yea...|04 22, 2004|My daughter loves it|0689027818|         508|\n",
      "|  [0, 0]|    5.0|For a novice cake...| 05 4, 2014|       Wilton Rocks!|0912696591|         433|\n",
      "|  [1, 1]|    5.0|I should not have...| 06 7, 2013|I should not have...|0912696591|         134|\n",
      "|  [0, 0]|    5.0|had no idea about...|05 27, 2012|follow the instru...|0912696591|         309|\n",
      "|  [0, 1]|    5.0|excellent book, s...|06 12, 2012|                book|0912696591|         148|\n",
      "+--------+-------+--------------------+-----------+--------------------+----------+------------+\n",
      "only showing top 20 rows\n",
      "\n"
     ]
    }
   ],
   "source": [
    "review_length.show()"
   ]
  },
  {
   "cell_type": "code",
   "execution_count": 19,
   "metadata": {},
   "outputs": [
    {
     "name": "stdout",
     "output_type": "stream",
     "text": [
      "+------------+-------+--------------------+-----------+--------------------+----------+------------+\n",
      "|     helpful|overall|          reviewText| reviewTime|             summary|      asin|reviewLength|\n",
      "+------------+-------+--------------------+-----------+--------------------+----------+------------+\n",
      "|      [0, 0]|    5.0|\"One chews coffee...|12 31, 2013|6 YEARS AND OVER ...|B00009ADDR|       30808|\n",
      "|      [4, 4]|    5.0|\"One chews coffee...|04 11, 2012|SIX YEARS WITH A ...|B005FCE72U|       30804|\n",
      "|      [0, 0]|    5.0|\"One chews coffee...|04 24, 2014|SIX YEARS WITH A ...|B004XGBLNC|       30802|\n",
      "|  [398, 408]|    5.0|I spent over a ye...| 10 4, 2012|My Research Paid ...|B001L7OIVI|       29087|\n",
      "|    [27, 29]|    4.0|OVERVIEW: As a lo...| 01 7, 2013|Face-off: Rancili...|B008TUWP24|       23118|\n",
      "|    [83, 89]|    5.0|Face-off: Rancili...| 01 7, 2013|Face-off: Rancili...|B007KAYU68|       22893|\n",
      "|  [139, 149]|    4.0|OVERVIEW: As a lo...| 01 7, 2013|Face-off: Rancili...|B008TV3S1K|       22848|\n",
      "|    [92, 95]|    3.0|Edited 5/6/13:  J...|07 25, 2012|Definite improvem...|B007VLUF24|       20217|\n",
      "|      [6, 7]|    5.0|Even though I was...|05 17, 2014|The iRobot Roomba...|B00IO9PBPS|       19696|\n",
      "|  [115, 122]|    5.0|If you're an avid...|02 11, 2012|The Good, The Bad...|B005QSI5I0|       19648|\n",
      "|  [103, 118]|    4.0|&#2951; Fuzzy Wuz...| 08 3, 2012|Good sturdy bed f...|B0063MX2HM|       18099|\n",
      "|    [14, 22]|    5.0|Fast healthy ener...|06 23, 2011|Save Time, Electr...|B0049URLT0|       18054|\n",
      "|     [7, 10]|    5.0|FEATURESExtremely...|06 11, 2011|Fast, Healthy, En...|B002YD99Y4|       18007|\n",
      "|     [6, 15]|    5.0|There are a few v...|07 29, 2011|            worth it|B000BBGV0G|       17605|\n",
      "|      [6, 6]|    3.0|In 2009 my friend...| 03 6, 2013|The top steam mop...|B002IB0WWA|       16778|\n",
      "|[4736, 4768]|    4.0|My wife and I dec...|09 16, 2007|Great but not per...|B000UUBCNO|       16770|\n",
      "|      [2, 5]|    5.0|I actually purcha...|06 23, 2011|Fast healthy ener...|B003DNRG7Q|       16699|\n",
      "|[6128, 6174]|    5.0|Note: I have upda...| 08 7, 2009|The top steam mop...|B001LYFBHG|       16302|\n",
      "|      [6, 8]|    4.0|&#2951; Fuzzy Wuz...|02 24, 2013|Good tea ball, bu...|B004X7DCSI|       16279|\n",
      "|    [18, 19]|    2.0|Note: I loved Eur...|03 27, 2013|Comparison of the...|B005Y00EGG|       15425|\n",
      "+------------+-------+--------------------+-----------+--------------------+----------+------------+\n",
      "only showing top 20 rows\n",
      "\n"
     ]
    }
   ],
   "source": [
    "spark.sql(\"select * from review_length order by reviewLength desc\").show()"
   ]
  },
  {
   "cell_type": "code",
   "execution_count": 20,
   "metadata": {},
   "outputs": [],
   "source": [
    "spark.stop()"
   ]
  }
 ],
 "metadata": {
  "kernelspec": {
   "display_name": "Python 3",
   "language": "python",
   "name": "python3"
  },
  "language_info": {
   "codemirror_mode": {
    "name": "ipython",
    "version": 3
   },
   "file_extension": ".py",
   "mimetype": "text/x-python",
   "name": "python",
   "nbconvert_exporter": "python",
   "pygments_lexer": "ipython3",
   "version": "3.7.3"
  }
 },
 "nbformat": 4,
 "nbformat_minor": 2
}
